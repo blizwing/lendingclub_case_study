{
 "cells": [
  {
   "cell_type": "code",
   "execution_count": 1,
   "metadata": {
    "id": "rC7K4EwlgPy9"
   },
   "outputs": [],
   "source": [
    "#One time installation.\n",
    "#!pip install numpy\n",
    "#!pip install pandas\n",
    "#!pip install matplotlib\n",
    "#!pip install seaborn"
   ]
  },
  {
   "cell_type": "code",
   "execution_count": 2,
   "metadata": {
    "id": "rC7K4EwlgPy9"
   },
   "outputs": [],
   "source": [
    "import numpy as np\n",
    "import pandas as pd\n",
    "import matplotlib.pyplot as plot\n",
    "import seaborn as sea\n",
    "import datetime as dt\n",
    "\n",
    "import warnings\n",
    "warnings.filterwarnings('ignore') # to ignore the warnings"
   ]
  },
  {
   "cell_type": "code",
   "execution_count": 3,
   "metadata": {
    "id": "sH_bPAGlxakx"
   },
   "outputs": [],
   "source": [
    "#Read loan data and convert into data frame\n",
    "loan= pd.read_csv(r'content/loan.csv')"
   ]
  },
  {
   "cell_type": "markdown",
   "metadata": {
    "id": "J-BUJkAq46Vu"
   },
   "source": [
    "#1. Data understanding and Cleaning\n",
    "\n",
    "Check if there are any header or footer or summary details are there. IF found, delete it."
   ]
  },
  {
   "cell_type": "code",
   "execution_count": 4,
   "metadata": {
    "colab": {
     "base_uri": "https://localhost:8080/",
     "height": 360
    },
    "executionInfo": {
     "elapsed": 14,
     "status": "ok",
     "timestamp": 1723977372545,
     "user": {
      "displayName": "ABHILASH KUKAWALKAR",
      "userId": "05666272144897377525"
     },
     "user_tz": -330
    },
    "id": "NQcu6BV0x0I6",
    "outputId": "f21e0890-dabc-4b95-cfa8-1e94312d88a0"
   },
   "outputs": [
    {
     "data": {
      "text/html": [
       "<div>\n",
       "<style scoped>\n",
       "    .dataframe tbody tr th:only-of-type {\n",
       "        vertical-align: middle;\n",
       "    }\n",
       "\n",
       "    .dataframe tbody tr th {\n",
       "        vertical-align: top;\n",
       "    }\n",
       "\n",
       "    .dataframe thead th {\n",
       "        text-align: right;\n",
       "    }\n",
       "</style>\n",
       "<table border=\"1\" class=\"dataframe\">\n",
       "  <thead>\n",
       "    <tr style=\"text-align: right;\">\n",
       "      <th></th>\n",
       "      <th>id</th>\n",
       "      <th>member_id</th>\n",
       "      <th>loan_amnt</th>\n",
       "      <th>funded_amnt</th>\n",
       "      <th>funded_amnt_inv</th>\n",
       "      <th>term</th>\n",
       "      <th>int_rate</th>\n",
       "      <th>installment</th>\n",
       "      <th>grade</th>\n",
       "      <th>sub_grade</th>\n",
       "      <th>...</th>\n",
       "      <th>num_tl_90g_dpd_24m</th>\n",
       "      <th>num_tl_op_past_12m</th>\n",
       "      <th>pct_tl_nvr_dlq</th>\n",
       "      <th>percent_bc_gt_75</th>\n",
       "      <th>pub_rec_bankruptcies</th>\n",
       "      <th>tax_liens</th>\n",
       "      <th>tot_hi_cred_lim</th>\n",
       "      <th>total_bal_ex_mort</th>\n",
       "      <th>total_bc_limit</th>\n",
       "      <th>total_il_high_credit_limit</th>\n",
       "    </tr>\n",
       "  </thead>\n",
       "  <tbody>\n",
       "    <tr>\n",
       "      <th>0</th>\n",
       "      <td>1077501</td>\n",
       "      <td>1296599</td>\n",
       "      <td>5000</td>\n",
       "      <td>5000</td>\n",
       "      <td>4975.0</td>\n",
       "      <td>36 months</td>\n",
       "      <td>10.65%</td>\n",
       "      <td>162.87</td>\n",
       "      <td>B</td>\n",
       "      <td>B2</td>\n",
       "      <td>...</td>\n",
       "      <td>NaN</td>\n",
       "      <td>NaN</td>\n",
       "      <td>NaN</td>\n",
       "      <td>NaN</td>\n",
       "      <td>0.0</td>\n",
       "      <td>0.0</td>\n",
       "      <td>NaN</td>\n",
       "      <td>NaN</td>\n",
       "      <td>NaN</td>\n",
       "      <td>NaN</td>\n",
       "    </tr>\n",
       "    <tr>\n",
       "      <th>1</th>\n",
       "      <td>1077430</td>\n",
       "      <td>1314167</td>\n",
       "      <td>2500</td>\n",
       "      <td>2500</td>\n",
       "      <td>2500.0</td>\n",
       "      <td>60 months</td>\n",
       "      <td>15.27%</td>\n",
       "      <td>59.83</td>\n",
       "      <td>C</td>\n",
       "      <td>C4</td>\n",
       "      <td>...</td>\n",
       "      <td>NaN</td>\n",
       "      <td>NaN</td>\n",
       "      <td>NaN</td>\n",
       "      <td>NaN</td>\n",
       "      <td>0.0</td>\n",
       "      <td>0.0</td>\n",
       "      <td>NaN</td>\n",
       "      <td>NaN</td>\n",
       "      <td>NaN</td>\n",
       "      <td>NaN</td>\n",
       "    </tr>\n",
       "    <tr>\n",
       "      <th>2</th>\n",
       "      <td>1077175</td>\n",
       "      <td>1313524</td>\n",
       "      <td>2400</td>\n",
       "      <td>2400</td>\n",
       "      <td>2400.0</td>\n",
       "      <td>36 months</td>\n",
       "      <td>15.96%</td>\n",
       "      <td>84.33</td>\n",
       "      <td>C</td>\n",
       "      <td>C5</td>\n",
       "      <td>...</td>\n",
       "      <td>NaN</td>\n",
       "      <td>NaN</td>\n",
       "      <td>NaN</td>\n",
       "      <td>NaN</td>\n",
       "      <td>0.0</td>\n",
       "      <td>0.0</td>\n",
       "      <td>NaN</td>\n",
       "      <td>NaN</td>\n",
       "      <td>NaN</td>\n",
       "      <td>NaN</td>\n",
       "    </tr>\n",
       "  </tbody>\n",
       "</table>\n",
       "<p>3 rows × 111 columns</p>\n",
       "</div>"
      ],
      "text/plain": [
       "        id  member_id  loan_amnt  funded_amnt  funded_amnt_inv        term  \\\n",
       "0  1077501    1296599       5000         5000           4975.0   36 months   \n",
       "1  1077430    1314167       2500         2500           2500.0   60 months   \n",
       "2  1077175    1313524       2400         2400           2400.0   36 months   \n",
       "\n",
       "  int_rate  installment grade sub_grade  ... num_tl_90g_dpd_24m  \\\n",
       "0   10.65%       162.87     B        B2  ...                NaN   \n",
       "1   15.27%        59.83     C        C4  ...                NaN   \n",
       "2   15.96%        84.33     C        C5  ...                NaN   \n",
       "\n",
       "  num_tl_op_past_12m pct_tl_nvr_dlq  percent_bc_gt_75 pub_rec_bankruptcies  \\\n",
       "0                NaN            NaN               NaN                  0.0   \n",
       "1                NaN            NaN               NaN                  0.0   \n",
       "2                NaN            NaN               NaN                  0.0   \n",
       "\n",
       "  tax_liens tot_hi_cred_lim total_bal_ex_mort total_bc_limit  \\\n",
       "0       0.0             NaN               NaN            NaN   \n",
       "1       0.0             NaN               NaN            NaN   \n",
       "2       0.0             NaN               NaN            NaN   \n",
       "\n",
       "  total_il_high_credit_limit  \n",
       "0                        NaN  \n",
       "1                        NaN  \n",
       "2                        NaN  \n",
       "\n",
       "[3 rows x 111 columns]"
      ]
     },
     "execution_count": 4,
     "metadata": {},
     "output_type": "execute_result"
    }
   ],
   "source": [
    "#Print summary of loan data\n",
    "loan.head()\n",
    "#print(loan.shape)\n",
    "loan.head(3)"
   ]
  },
  {
   "cell_type": "markdown",
   "metadata": {
    "id": "toBG76Wk6DcJ"
   },
   "source": [
    "THere are no header or summary rows, now check footer rows"
   ]
  },
  {
   "cell_type": "code",
   "execution_count": 5,
   "metadata": {
    "colab": {
     "base_uri": "https://localhost:8080/"
    },
    "executionInfo": {
     "elapsed": 12,
     "status": "ok",
     "timestamp": 1723977372545,
     "user": {
      "displayName": "ABHILASH KUKAWALKAR",
      "userId": "05666272144897377525"
     },
     "user_tz": -330
    },
    "id": "FdJhE-jzyCee",
    "outputId": "3f1ffaa2-81a3-4a26-8e7c-dae473e6ebe6"
   },
   "outputs": [
    {
     "data": {
      "text/html": [
       "<div>\n",
       "<style scoped>\n",
       "    .dataframe tbody tr th:only-of-type {\n",
       "        vertical-align: middle;\n",
       "    }\n",
       "\n",
       "    .dataframe tbody tr th {\n",
       "        vertical-align: top;\n",
       "    }\n",
       "\n",
       "    .dataframe thead th {\n",
       "        text-align: right;\n",
       "    }\n",
       "</style>\n",
       "<table border=\"1\" class=\"dataframe\">\n",
       "  <thead>\n",
       "    <tr style=\"text-align: right;\">\n",
       "      <th></th>\n",
       "      <th>id</th>\n",
       "      <th>member_id</th>\n",
       "      <th>loan_amnt</th>\n",
       "      <th>funded_amnt</th>\n",
       "      <th>funded_amnt_inv</th>\n",
       "      <th>term</th>\n",
       "      <th>int_rate</th>\n",
       "      <th>installment</th>\n",
       "      <th>grade</th>\n",
       "      <th>sub_grade</th>\n",
       "      <th>...</th>\n",
       "      <th>num_tl_90g_dpd_24m</th>\n",
       "      <th>num_tl_op_past_12m</th>\n",
       "      <th>pct_tl_nvr_dlq</th>\n",
       "      <th>percent_bc_gt_75</th>\n",
       "      <th>pub_rec_bankruptcies</th>\n",
       "      <th>tax_liens</th>\n",
       "      <th>tot_hi_cred_lim</th>\n",
       "      <th>total_bal_ex_mort</th>\n",
       "      <th>total_bc_limit</th>\n",
       "      <th>total_il_high_credit_limit</th>\n",
       "    </tr>\n",
       "  </thead>\n",
       "  <tbody>\n",
       "    <tr>\n",
       "      <th>39714</th>\n",
       "      <td>90395</td>\n",
       "      <td>90390</td>\n",
       "      <td>5000</td>\n",
       "      <td>5000</td>\n",
       "      <td>1325.0</td>\n",
       "      <td>36 months</td>\n",
       "      <td>8.07%</td>\n",
       "      <td>156.84</td>\n",
       "      <td>A</td>\n",
       "      <td>A4</td>\n",
       "      <td>...</td>\n",
       "      <td>NaN</td>\n",
       "      <td>NaN</td>\n",
       "      <td>NaN</td>\n",
       "      <td>NaN</td>\n",
       "      <td>NaN</td>\n",
       "      <td>NaN</td>\n",
       "      <td>NaN</td>\n",
       "      <td>NaN</td>\n",
       "      <td>NaN</td>\n",
       "      <td>NaN</td>\n",
       "    </tr>\n",
       "    <tr>\n",
       "      <th>39715</th>\n",
       "      <td>90376</td>\n",
       "      <td>89243</td>\n",
       "      <td>5000</td>\n",
       "      <td>5000</td>\n",
       "      <td>650.0</td>\n",
       "      <td>36 months</td>\n",
       "      <td>7.43%</td>\n",
       "      <td>155.38</td>\n",
       "      <td>A</td>\n",
       "      <td>A2</td>\n",
       "      <td>...</td>\n",
       "      <td>NaN</td>\n",
       "      <td>NaN</td>\n",
       "      <td>NaN</td>\n",
       "      <td>NaN</td>\n",
       "      <td>NaN</td>\n",
       "      <td>NaN</td>\n",
       "      <td>NaN</td>\n",
       "      <td>NaN</td>\n",
       "      <td>NaN</td>\n",
       "      <td>NaN</td>\n",
       "    </tr>\n",
       "    <tr>\n",
       "      <th>39716</th>\n",
       "      <td>87023</td>\n",
       "      <td>86999</td>\n",
       "      <td>7500</td>\n",
       "      <td>7500</td>\n",
       "      <td>800.0</td>\n",
       "      <td>36 months</td>\n",
       "      <td>13.75%</td>\n",
       "      <td>255.43</td>\n",
       "      <td>E</td>\n",
       "      <td>E2</td>\n",
       "      <td>...</td>\n",
       "      <td>NaN</td>\n",
       "      <td>NaN</td>\n",
       "      <td>NaN</td>\n",
       "      <td>NaN</td>\n",
       "      <td>NaN</td>\n",
       "      <td>NaN</td>\n",
       "      <td>NaN</td>\n",
       "      <td>NaN</td>\n",
       "      <td>NaN</td>\n",
       "      <td>NaN</td>\n",
       "    </tr>\n",
       "  </tbody>\n",
       "</table>\n",
       "<p>3 rows × 111 columns</p>\n",
       "</div>"
      ],
      "text/plain": [
       "          id  member_id  loan_amnt  funded_amnt  funded_amnt_inv        term  \\\n",
       "39714  90395      90390       5000         5000           1325.0   36 months   \n",
       "39715  90376      89243       5000         5000            650.0   36 months   \n",
       "39716  87023      86999       7500         7500            800.0   36 months   \n",
       "\n",
       "      int_rate  installment grade sub_grade  ... num_tl_90g_dpd_24m  \\\n",
       "39714    8.07%       156.84     A        A4  ...                NaN   \n",
       "39715    7.43%       155.38     A        A2  ...                NaN   \n",
       "39716   13.75%       255.43     E        E2  ...                NaN   \n",
       "\n",
       "      num_tl_op_past_12m pct_tl_nvr_dlq  percent_bc_gt_75  \\\n",
       "39714                NaN            NaN               NaN   \n",
       "39715                NaN            NaN               NaN   \n",
       "39716                NaN            NaN               NaN   \n",
       "\n",
       "      pub_rec_bankruptcies tax_liens tot_hi_cred_lim total_bal_ex_mort  \\\n",
       "39714                  NaN       NaN             NaN               NaN   \n",
       "39715                  NaN       NaN             NaN               NaN   \n",
       "39716                  NaN       NaN             NaN               NaN   \n",
       "\n",
       "      total_bc_limit total_il_high_credit_limit  \n",
       "39714            NaN                        NaN  \n",
       "39715            NaN                        NaN  \n",
       "39716            NaN                        NaN  \n",
       "\n",
       "[3 rows x 111 columns]"
      ]
     },
     "execution_count": 5,
     "metadata": {},
     "output_type": "execute_result"
    }
   ],
   "source": [
    "loan.tail(3)\n",
    "#print(loan.tail())"
   ]
  },
  {
   "cell_type": "code",
   "execution_count": 6,
   "metadata": {
    "colab": {
     "base_uri": "https://localhost:8080/"
    },
    "executionInfo": {
     "elapsed": 11,
     "status": "ok",
     "timestamp": 1723977372545,
     "user": {
      "displayName": "ABHILASH KUKAWALKAR",
      "userId": "05666272144897377525"
     },
     "user_tz": -330
    },
    "id": "Q0zB7G9JyMlU",
    "outputId": "4820ab52-b842-4e6e-b310-42a6f7955cab"
   },
   "outputs": [
    {
     "data": {
      "text/plain": [
       "39717"
      ]
     },
     "execution_count": 6,
     "metadata": {},
     "output_type": "execute_result"
    }
   ],
   "source": [
    "total_rows = len(loan)\n",
    "\n",
    "total_rows"
   ]
  },
  {
   "cell_type": "code",
   "execution_count": 7,
   "metadata": {
    "colab": {
     "base_uri": "https://localhost:8080/"
    },
    "executionInfo": {
     "elapsed": 8,
     "status": "ok",
     "timestamp": 1723977372545,
     "user": {
      "displayName": "ABHILASH KUKAWALKAR",
      "userId": "05666272144897377525"
     },
     "user_tz": -330
    },
    "id": "RVxsmEdUyeBt",
    "outputId": "3399a841-100d-45f4-dbc0-608651e5af78"
   },
   "outputs": [
    {
     "name": "stdout",
     "output_type": "stream",
     "text": [
      "loan_status\n",
      "Fully Paid     32950\n",
      "Charged Off     5627\n",
      "Current         1140\n",
      "Name: count, dtype: int64\n"
     ]
    }
   ],
   "source": [
    "#Check various loan status and their count\n",
    "loan[\"loan_status\"].value_counts()\n",
    "print(loan[\"loan_status\"].value_counts())"
   ]
  },
  {
   "cell_type": "code",
   "execution_count": 8,
   "metadata": {
    "colab": {
     "base_uri": "https://localhost:8080/"
    },
    "executionInfo": {
     "elapsed": 7,
     "status": "ok",
     "timestamp": 1723977372546,
     "user": {
      "displayName": "ABHILASH KUKAWALKAR",
      "userId": "05666272144897377525"
     },
     "user_tz": -330
    },
    "id": "5RrjrFSEzCnD",
    "outputId": "bdcb454f-bd29-4591-880d-e2a783c310b9"
   },
   "outputs": [
    {
     "name": "stdout",
     "output_type": "stream",
     "text": [
      "Number of rows excluding Loan status as Current 38577\n"
     ]
    }
   ],
   "source": [
    "#Drop current loans\n",
    "loan = loan[loan[\"loan_status\"] != \"Current\"]\n",
    "len(loan)\n",
    "print('Number of rows excluding Loan status as Current', len(loan))"
   ]
  },
  {
   "cell_type": "code",
   "execution_count": 9,
   "metadata": {
    "colab": {
     "base_uri": "https://localhost:8080/"
    },
    "executionInfo": {
     "elapsed": 6,
     "status": "ok",
     "timestamp": 1723977372546,
     "user": {
      "displayName": "ABHILASH KUKAWALKAR",
      "userId": "05666272144897377525"
     },
     "user_tz": -330
    },
    "id": "YCnyUXls8OjY",
    "outputId": "a0a6dc70-7b83-42b3-fe33-9a99d9d95849"
   },
   "outputs": [
    {
     "name": "stdout",
     "output_type": "stream",
     "text": [
      "total_rows: 39717 \n",
      "length of loan: 38577 \n",
      "Percentage of rows deleted 2.87\n"
     ]
    }
   ],
   "source": [
    "print(f\"total_rows: {total_rows} \")\n",
    "print(f\"length of loan: {len(loan)} \")\n",
    "#percentage of rows deleted\n",
    "deleted_rows = (total_rows - len(loan))*100/total_rows\n",
    "print('Percentage of rows deleted', round(deleted_rows,2))"
   ]
  },
  {
   "cell_type": "markdown",
   "metadata": {
    "colab": {
     "base_uri": "https://localhost:8080/"
    },
    "executionInfo": {
     "elapsed": 559,
     "status": "ok",
     "timestamp": 1723977373100,
     "user": {
      "displayName": "ABHILASH KUKAWALKAR",
      "userId": "05666272144897377525"
     },
     "user_tz": -330
    },
    "id": "l64LofzoE768",
    "outputId": "956f95ed-68ce-4ece-aa70-4a05ae557b20"
   },
   "source": [
    "#Now check if there any duplicates present\n",
    "duplicate_rows = len (loan[loan.duplicated()])\n",
    "\n",
    "duplicate_rows"
   ]
  },
  {
   "cell_type": "markdown",
   "metadata": {
    "id": "molxrokOF8DF"
   },
   "source": [
    "#2. Duplicate unnecessary columns"
   ]
  },
  {
   "cell_type": "code",
   "execution_count": 10,
   "metadata": {
    "colab": {
     "base_uri": "https://localhost:8080/"
    },
    "executionInfo": {
     "elapsed": 11,
     "status": "ok",
     "timestamp": 1723977373101,
     "user": {
      "displayName": "ABHILASH KUKAWALKAR",
      "userId": "05666272144897377525"
     },
     "user_tz": -330
    },
    "id": "WnHiIlgPFqco",
    "outputId": "e3f5f45b-e2cd-4563-b75d-ef7bc23da435"
   },
   "outputs": [
    {
     "data": {
      "text/plain": [
       "(38577, 111)"
      ]
     },
     "execution_count": 10,
     "metadata": {},
     "output_type": "execute_result"
    }
   ],
   "source": [
    "#shape of data\n",
    "loan.shape"
   ]
  },
  {
   "cell_type": "code",
   "execution_count": 11,
   "metadata": {
    "colab": {
     "base_uri": "https://localhost:8080/"
    },
    "executionInfo": {
     "elapsed": 9,
     "status": "ok",
     "timestamp": 1723977373101,
     "user": {
      "displayName": "ABHILASH KUKAWALKAR",
      "userId": "05666272144897377525"
     },
     "user_tz": -330
    },
    "id": "RPhFqBphGZWj",
    "outputId": "ea6d79e0-3b5c-4050-ff2b-1b036d40fc63"
   },
   "outputs": [
    {
     "name": "stdout",
     "output_type": "stream",
     "text": [
      "id                              0.000000\n",
      "member_id                       0.000000\n",
      "loan_amnt                       0.000000\n",
      "funded_amnt                     0.000000\n",
      "funded_amnt_inv                 0.000000\n",
      "                                 ...    \n",
      "tax_liens                       0.101097\n",
      "tot_hi_cred_lim               100.000000\n",
      "total_bal_ex_mort             100.000000\n",
      "total_bc_limit                100.000000\n",
      "total_il_high_credit_limit    100.000000\n",
      "Length: 111, dtype: float64\n"
     ]
    }
   ],
   "source": [
    "#Check percentage of nulls or blanks in columns\n",
    "loan.isnull().sum()*100/len(loan)\n",
    "print(loan.isnull().sum()*100/len(loan))"
   ]
  },
  {
   "cell_type": "code",
   "execution_count": 12,
   "metadata": {
    "colab": {
     "base_uri": "https://localhost:8080/"
    },
    "executionInfo": {
     "elapsed": 8,
     "status": "ok",
     "timestamp": 1723977373101,
     "user": {
      "displayName": "ABHILASH KUKAWALKAR",
      "userId": "05666272144897377525"
     },
     "user_tz": -330
    },
    "id": "DHySWmu3GtG1",
    "outputId": "340ffec8-0a1a-40db-9ffa-551e85b5870c"
   },
   "outputs": [
    {
     "name": "stdout",
     "output_type": "stream",
     "text": [
      "\n",
      "Total rows with nulls or blanks 55\n",
      "\n",
      "Total rows with nulls  55\n",
      "\n",
      "na_list ['emp_title', 'emp_length', 'desc', 'title', 'mths_since_last_delinq', 'mths_since_last_record', 'revol_util', 'last_pymnt_d', 'next_pymnt_d', 'last_credit_pull_d', 'collections_12_mths_ex_med', 'mths_since_last_major_derog', 'annual_inc_joint', 'dti_joint', 'verification_status_joint', 'tot_coll_amt', 'tot_cur_bal', 'open_acc_6m', 'open_il_6m', 'open_il_12m', 'open_il_24m', 'mths_since_rcnt_il', 'total_bal_il', 'il_util', 'open_rv_12m', 'open_rv_24m', 'max_bal_bc', 'all_util', 'total_rev_hi_lim', 'inq_fi', 'total_cu_tl', 'inq_last_12m', 'acc_open_past_24mths', 'avg_cur_bal', 'bc_open_to_buy', 'bc_util', 'chargeoff_within_12_mths', 'mo_sin_old_il_acct', 'mo_sin_old_rev_tl_op', 'mo_sin_rcnt_rev_tl_op', 'mo_sin_rcnt_tl', 'mort_acc', 'mths_since_recent_bc', 'mths_since_recent_bc_dlq', 'mths_since_recent_inq', 'mths_since_recent_revol_delinq', 'num_accts_ever_120_pd', 'num_actv_bc_tl', 'num_actv_rev_tl', 'num_bc_sats', 'num_bc_tl', 'num_il_tl', 'num_op_rev_tl', 'num_rev_accts', 'num_rev_tl_bal_gt_0', 'num_sats', 'num_tl_120dpd_2m', 'num_tl_30dpd', 'num_tl_90g_dpd_24m', 'num_tl_op_past_12m', 'pct_tl_nvr_dlq', 'percent_bc_gt_75', 'pub_rec_bankruptcies', 'tax_liens', 'tot_hi_cred_lim', 'total_bal_ex_mort', 'total_bc_limit', 'total_il_high_credit_limit']\n"
     ]
    }
   ],
   "source": [
    "# tot_hi_cred_lim,total_bal_ex_mort,total_bc_limit,total_il_high_credit_limit are 100% null, \n",
    "# so safe to drop them from analysis\n",
    "\n",
    "print('\\nTotal rows with nulls or blanks',len(loan.columns[loan.isna().all()].tolist() ))\n",
    "print('\\nTotal rows with nulls ',len(loan.columns[loan.isnull().all()].tolist() ))\n",
    "\n",
    "na_list = list(loan.columns[loan.isna().any()].tolist())\n",
    "print('\\nna_list',na_list)"
   ]
  },
  {
   "cell_type": "code",
   "execution_count": 13,
   "metadata": {
    "colab": {
     "base_uri": "https://localhost:8080/"
    },
    "executionInfo": {
     "elapsed": 6,
     "status": "ok",
     "timestamp": 1723977373101,
     "user": {
      "displayName": "ABHILASH KUKAWALKAR",
      "userId": "05666272144897377525"
     },
     "user_tz": -330
    },
    "id": "XHrGvG17HgNI",
    "outputId": "25e05a2f-ea35-45e3-f5f0-cf93d8fe8db0"
   },
   "outputs": [
    {
     "data": {
      "text/plain": [
       "(38577, 56)"
      ]
     },
     "execution_count": 13,
     "metadata": {},
     "output_type": "execute_result"
    }
   ],
   "source": [
    "# Delete all columns where all rows have null values\n",
    "loan = loan.dropna(axis=1, how='all')\n",
    "\n",
    "loan.shape"
   ]
  },
  {
   "cell_type": "code",
   "execution_count": 14,
   "metadata": {
    "colab": {
     "base_uri": "https://localhost:8080/"
    },
    "executionInfo": {
     "elapsed": 4,
     "status": "ok",
     "timestamp": 1723977373101,
     "user": {
      "displayName": "ABHILASH KUKAWALKAR",
      "userId": "05666272144897377525"
     },
     "user_tz": -330
    },
    "id": "-h1jVzCcJoF9",
    "outputId": "5a321bc6-edf3-42d5-d997-cbfa8f4ad450"
   },
   "outputs": [
    {
     "data": {
      "text/plain": [
       "(38577, 56)"
      ]
     },
     "execution_count": 14,
     "metadata": {},
     "output_type": "execute_result"
    }
   ],
   "source": [
    "loan.shape"
   ]
  },
  {
   "cell_type": "code",
   "execution_count": 15,
   "metadata": {
    "colab": {
     "base_uri": "https://localhost:8080/"
    },
    "executionInfo": {
     "elapsed": 604,
     "status": "ok",
     "timestamp": 1723977373702,
     "user": {
      "displayName": "ABHILASH KUKAWALKAR",
      "userId": "05666272144897377525"
     },
     "user_tz": -330
    },
    "id": "2uzbqmCFLH8h",
    "outputId": "07d21245-1eb6-4fcd-9603-4d70644b44e5"
   },
   "outputs": [
    {
     "name": "stdout",
     "output_type": "stream",
     "text": [
      "unique_value_cols ['id', 'member_id', 'url']\n"
     ]
    }
   ],
   "source": [
    "#find columns with unique values\n",
    "unique_value_cols = [col for col in loan.columns if loan[col].nunique() == len(loan)]\n",
    "unique_value_cols\n",
    "print('unique_value_cols',unique_value_cols)"
   ]
  },
  {
   "cell_type": "code",
   "execution_count": 16,
   "metadata": {
    "id": "J0efKZcTNlfw"
   },
   "outputs": [],
   "source": [
    "#Let us delete  [ 'member_id', 'url'] since their values are unique in nature\n",
    "loan.drop(['url','member_id'],axis=1, inplace=True)"
   ]
  },
  {
   "cell_type": "code",
   "execution_count": 17,
   "metadata": {
    "colab": {
     "base_uri": "https://localhost:8080/"
    },
    "executionInfo": {
     "elapsed": 18,
     "status": "ok",
     "timestamp": 1723977373702,
     "user": {
      "displayName": "ABHILASH KUKAWALKAR",
      "userId": "05666272144897377525"
     },
     "user_tz": -330
    },
    "id": "xTAEBeplSxMz",
    "outputId": "3bf70e2c-81b9-48d6-9069-99c8fc638cd2"
   },
   "outputs": [
    {
     "data": {
      "text/plain": [
       "(38577, 54)"
      ]
     },
     "execution_count": 17,
     "metadata": {},
     "output_type": "execute_result"
    }
   ],
   "source": [
    "#loan.shape\n",
    "loan.shape"
   ]
  },
  {
   "cell_type": "code",
   "execution_count": 18,
   "metadata": {
    "colab": {
     "base_uri": "https://localhost:8080/"
    },
    "executionInfo": {
     "elapsed": 16,
     "status": "ok",
     "timestamp": 1723977373702,
     "user": {
      "displayName": "ABHILASH KUKAWALKAR",
      "userId": "05666272144897377525"
     },
     "user_tz": -330
    },
    "id": "A_E_WzTxS0BS",
    "outputId": "1613bb63-ef2c-4d31-8cc6-5fa9860147bd"
   },
   "outputs": [
    {
     "data": {
      "text/plain": [
       "(38577, 54)"
      ]
     },
     "execution_count": 18,
     "metadata": {},
     "output_type": "execute_result"
    }
   ],
   "source": [
    "#loan.shape\n",
    "loan.shape"
   ]
  },
  {
   "cell_type": "code",
   "execution_count": 19,
   "metadata": {
    "colab": {
     "base_uri": "https://localhost:8080/"
    },
    "executionInfo": {
     "elapsed": 15,
     "status": "ok",
     "timestamp": 1723977373702,
     "user": {
      "displayName": "ABHILASH KUKAWALKAR",
      "userId": "05666272144897377525"
     },
     "user_tz": -330
    },
    "id": "jPexv_PkS7V4",
    "outputId": "e715668c-94c6-4994-e6a7-9fec4f61681a"
   },
   "outputs": [
    {
     "name": "stdout",
     "output_type": "stream",
     "text": [
      "Loan.Head         id  loan_amnt  funded_amnt  funded_amnt_inv        term int_rate  \\\n",
      "0  1077501       5000         5000           4975.0   36 months   10.65%   \n",
      "1  1077430       2500         2500           2500.0   60 months   15.27%   \n",
      "2  1077175       2400         2400           2400.0   36 months   15.96%   \n",
      "3  1076863      10000        10000          10000.0   36 months   13.49%   \n",
      "5  1075269       5000         5000           5000.0   36 months    7.90%   \n",
      "\n",
      "   installment grade sub_grade             emp_title  ... last_pymnt_amnt  \\\n",
      "0       162.87     B        B2                   NaN  ...          171.62   \n",
      "1        59.83     C        C4                 Ryder  ...          119.66   \n",
      "2        84.33     C        C5                   NaN  ...          649.91   \n",
      "3       339.31     C        C1   AIR RESOURCES BOARD  ...          357.48   \n",
      "5       156.46     A        A4  Veolia Transportaton  ...          161.03   \n",
      "\n",
      "  last_credit_pull_d  collections_12_mths_ex_med policy_code application_type  \\\n",
      "0             May-16                         0.0           1       INDIVIDUAL   \n",
      "1             Sep-13                         0.0           1       INDIVIDUAL   \n",
      "2             May-16                         0.0           1       INDIVIDUAL   \n",
      "3             Apr-16                         0.0           1       INDIVIDUAL   \n",
      "5             Jan-16                         0.0           1       INDIVIDUAL   \n",
      "\n",
      "  acc_now_delinq chargeoff_within_12_mths delinq_amnt pub_rec_bankruptcies  \\\n",
      "0              0                      0.0           0                  0.0   \n",
      "1              0                      0.0           0                  0.0   \n",
      "2              0                      0.0           0                  0.0   \n",
      "3              0                      0.0           0                  0.0   \n",
      "5              0                      0.0           0                  0.0   \n",
      "\n",
      "  tax_liens  \n",
      "0       0.0  \n",
      "1       0.0  \n",
      "2       0.0  \n",
      "3       0.0  \n",
      "5       0.0  \n",
      "\n",
      "[5 rows x 52 columns]\n",
      "<class 'pandas.core.frame.DataFrame'>\n",
      "Index: 38577 entries, 0 to 39716\n",
      "Data columns (total 52 columns):\n",
      " #   Column                      Non-Null Count  Dtype  \n",
      "---  ------                      --------------  -----  \n",
      " 0   id                          38577 non-null  int64  \n",
      " 1   loan_amnt                   38577 non-null  int64  \n",
      " 2   funded_amnt                 38577 non-null  int64  \n",
      " 3   funded_amnt_inv             38577 non-null  float64\n",
      " 4   term                        38577 non-null  object \n",
      " 5   int_rate                    38577 non-null  object \n",
      " 6   installment                 38577 non-null  float64\n",
      " 7   grade                       38577 non-null  object \n",
      " 8   sub_grade                   38577 non-null  object \n",
      " 9   emp_title                   36191 non-null  object \n",
      " 10  emp_length                  37544 non-null  object \n",
      " 11  home_ownership              38577 non-null  object \n",
      " 12  annual_inc                  38577 non-null  float64\n",
      " 13  verification_status         38577 non-null  object \n",
      " 14  issue_d                     38577 non-null  object \n",
      " 15  loan_status                 38577 non-null  object \n",
      " 16  pymnt_plan                  38577 non-null  object \n",
      " 17  purpose                     38577 non-null  object \n",
      " 18  zip_code                    38577 non-null  object \n",
      " 19  addr_state                  38577 non-null  object \n",
      " 20  dti                         38577 non-null  float64\n",
      " 21  delinq_2yrs                 38577 non-null  int64  \n",
      " 22  earliest_cr_line            38577 non-null  object \n",
      " 23  inq_last_6mths              38577 non-null  int64  \n",
      " 24  mths_since_last_delinq      13672 non-null  float64\n",
      " 25  mths_since_last_record      2740 non-null   float64\n",
      " 26  open_acc                    38577 non-null  int64  \n",
      " 27  pub_rec                     38577 non-null  int64  \n",
      " 28  revol_bal                   38577 non-null  int64  \n",
      " 29  revol_util                  38527 non-null  object \n",
      " 30  total_acc                   38577 non-null  int64  \n",
      " 31  initial_list_status         38577 non-null  object \n",
      " 32  out_prncp                   38577 non-null  float64\n",
      " 33  out_prncp_inv               38577 non-null  float64\n",
      " 34  total_pymnt                 38577 non-null  float64\n",
      " 35  total_pymnt_inv             38577 non-null  float64\n",
      " 36  total_rec_prncp             38577 non-null  float64\n",
      " 37  total_rec_int               38577 non-null  float64\n",
      " 38  total_rec_late_fee          38577 non-null  float64\n",
      " 39  recoveries                  38577 non-null  float64\n",
      " 40  collection_recovery_fee     38577 non-null  float64\n",
      " 41  last_pymnt_d                38506 non-null  object \n",
      " 42  last_pymnt_amnt             38577 non-null  float64\n",
      " 43  last_credit_pull_d          38575 non-null  object \n",
      " 44  collections_12_mths_ex_med  38521 non-null  float64\n",
      " 45  policy_code                 38577 non-null  int64  \n",
      " 46  application_type            38577 non-null  object \n",
      " 47  acc_now_delinq              38577 non-null  int64  \n",
      " 48  chargeoff_within_12_mths    38521 non-null  float64\n",
      " 49  delinq_amnt                 38577 non-null  int64  \n",
      " 50  pub_rec_bankruptcies        37880 non-null  float64\n",
      " 51  tax_liens                   38538 non-null  float64\n",
      "dtypes: float64(20), int64(12), object(20)\n",
      "memory usage: 15.6+ MB\n",
      "Loan.Info None\n",
      "Loan.shape (38577, 52)\n"
     ]
    }
   ],
   "source": [
    "# There are columns text, description whose values are not relevant to do analysis. \n",
    "# let us delete them\n",
    "\n",
    "loan = loan.drop(['desc','title'],axis=1)\n",
    "print('Loan.Head',loan.head())\n",
    "print('Loan.Info',loan.info())\n",
    "print('Loan.shape',loan.shape)"
   ]
  },
  {
   "cell_type": "code",
   "execution_count": 20,
   "metadata": {
    "colab": {
     "base_uri": "https://localhost:8080/"
    },
    "executionInfo": {
     "elapsed": 13,
     "status": "ok",
     "timestamp": 1723977373702,
     "user": {
      "displayName": "ABHILASH KUKAWALKAR",
      "userId": "05666272144897377525"
     },
     "user_tz": -330
    },
    "id": "5cGzACO1VFPn",
    "outputId": "e5ddca5e-259a-4b8c-b6bf-ec053d1c9d90"
   },
   "outputs": [
    {
     "name": "stdout",
     "output_type": "stream",
     "text": [
      "loan.shape (38577, 51)\n"
     ]
    }
   ],
   "source": [
    "#Delete sub_grade\n",
    "loan.drop(['sub_grade'],axis=1, inplace=True)\n",
    "print('loan.shape',loan.shape)"
   ]
  },
  {
   "cell_type": "code",
   "execution_count": 21,
   "metadata": {
    "id": "iWqtyJUsWa4p"
   },
   "outputs": [],
   "source": [
    "#some of fields are  post approval process, so they wont be useful in analysis\n",
    "unuseful_cols=['delinq_2yrs', 'earliest_cr_line', 'last_pymnt_amnt','inq_last_6mths', 'open_acc', 'pub_rec', 'revol_bal', 'revol_util', 'total_acc',\n",
    "                          'out_prncp', 'out_prncp_inv', 'total_pymnt','total_pymnt_inv', 'total_rec_prncp',\n",
    "                          'total_rec_int', 'total_rec_late_fee', 'recoveries', 'collection_recovery_fee',\n",
    "                        'application_type','last_pymnt_d','last_credit_pull_d']\n",
    "\n",
    "loan=loan.drop(unuseful_cols,axis=1)"
   ]
  },
  {
   "cell_type": "code",
   "execution_count": 22,
   "metadata": {
    "colab": {
     "base_uri": "https://localhost:8080/"
    },
    "executionInfo": {
     "elapsed": 10,
     "status": "ok",
     "timestamp": 1723977373703,
     "user": {
      "displayName": "ABHILASH KUKAWALKAR",
      "userId": "05666272144897377525"
     },
     "user_tz": -330
    },
    "id": "kzIpXIl0Xkzo",
    "outputId": "7f7df4dd-bd55-456a-c20c-58a6bdb9a885"
   },
   "outputs": [
    {
     "name": "stdout",
     "output_type": "stream",
     "text": [
      "loan.shape (38577, 30)\n"
     ]
    }
   ],
   "source": [
    "print('loan.shape',loan.shape)"
   ]
  },
  {
   "cell_type": "code",
   "execution_count": 23,
   "metadata": {
    "colab": {
     "base_uri": "https://localhost:8080/",
     "height": 1000
    },
    "executionInfo": {
     "elapsed": 9,
     "status": "ok",
     "timestamp": 1723977373703,
     "user": {
      "displayName": "ABHILASH KUKAWALKAR",
      "userId": "05666272144897377525"
     },
     "user_tz": -330
    },
    "id": "_TDMEG23XqUD",
    "outputId": "cecb6550-105a-41fe-98f6-d6e77e704e6c"
   },
   "outputs": [
    {
     "data": {
      "text/plain": [
       "tax_liens                         1\n",
       "delinq_amnt                       1\n",
       "chargeoff_within_12_mths          1\n",
       "acc_now_delinq                    1\n",
       "policy_code                       1\n",
       "collections_12_mths_ex_med        1\n",
       "initial_list_status               1\n",
       "pymnt_plan                        1\n",
       "loan_status                       2\n",
       "term                              2\n",
       "verification_status               3\n",
       "pub_rec_bankruptcies              3\n",
       "home_ownership                    5\n",
       "grade                             7\n",
       "emp_length                       11\n",
       "purpose                          14\n",
       "addr_state                       50\n",
       "issue_d                          55\n",
       "mths_since_last_delinq           95\n",
       "mths_since_last_record          111\n",
       "int_rate                        370\n",
       "zip_code                        822\n",
       "loan_amnt                       870\n",
       "funded_amnt                    1019\n",
       "dti                            2853\n",
       "annual_inc                     5209\n",
       "funded_amnt_inv                8050\n",
       "installment                   15022\n",
       "emp_title                     28027\n",
       "id                            38577\n",
       "dtype: int64"
      ]
     },
     "execution_count": 23,
     "metadata": {},
     "output_type": "execute_result"
    }
   ],
   "source": [
    "loan.nunique().sort_values()"
   ]
  },
  {
   "cell_type": "code",
   "execution_count": 24,
   "metadata": {
    "colab": {
     "base_uri": "https://localhost:8080/"
    },
    "executionInfo": {
     "elapsed": 8,
     "status": "ok",
     "timestamp": 1723977373703,
     "user": {
      "displayName": "ABHILASH KUKAWALKAR",
      "userId": "05666272144897377525"
     },
     "user_tz": -330
    },
    "id": "Zek-bvzNX0Ia",
    "outputId": "0c42dcaa-ee50-413c-996c-4c5a74389492"
   },
   "outputs": [
    {
     "name": "stdout",
     "output_type": "stream",
     "text": [
      "pymnt_plan\n",
      "initial_list_status\n",
      "collections_12_mths_ex_med\n",
      "policy_code\n",
      "acc_now_delinq\n",
      "chargeoff_within_12_mths\n",
      "delinq_amnt\n",
      "tax_liens\n",
      "loan.shape (38577, 22)\n"
     ]
    }
   ],
   "source": [
    "#columns values with 1. let us delete it\n",
    "for column in loan.columns:\n",
    "    if loan[column].nunique(dropna=True) == 1:\n",
    "        print(column)\n",
    "        loan = loan.drop(column, axis=1)\n",
    "print('loan.shape',loan.shape)"
   ]
  },
  {
   "cell_type": "code",
   "execution_count": 25,
   "metadata": {
    "colab": {
     "base_uri": "https://localhost:8080/"
    },
    "executionInfo": {
     "elapsed": 6,
     "status": "ok",
     "timestamp": 1723977373703,
     "user": {
      "displayName": "ABHILASH KUKAWALKAR",
      "userId": "05666272144897377525"
     },
     "user_tz": -330
    },
    "id": "Bpm57NIPZBDY",
    "outputId": "976f6f8e-4ba1-4faf-f1d2-1a11425dd4e6"
   },
   "outputs": [
    {
     "name": "stdout",
     "output_type": "stream",
     "text": [
      "mths_since_last_delinq\n",
      "mths_since_last_record\n"
     ]
    },
    {
     "data": {
      "text/plain": [
       "(38577, 20)"
      ]
     },
     "execution_count": 25,
     "metadata": {},
     "output_type": "execute_result"
    }
   ],
   "source": [
    "#drop the columns for which more than 50% values are null\n",
    "total_rows = len(loan)\n",
    "for column in loan.columns:\n",
    "    if loan[column].isna().mean().round(2) >= 0.50:\n",
    "        print(column)\n",
    "        loan = loan.drop(column, axis=1)\n",
    "loan.shape"
   ]
  },
  {
   "cell_type": "code",
   "execution_count": 26,
   "metadata": {
    "colab": {
     "base_uri": "https://localhost:8080/",
     "height": 313
    },
    "executionInfo": {
     "elapsed": 481,
     "status": "ok",
     "timestamp": 1723977374179,
     "user": {
      "displayName": "ABHILASH KUKAWALKAR",
      "userId": "05666272144897377525"
     },
     "user_tz": -330
    },
    "id": "9rFf8EKKank-",
    "outputId": "4f568953-ff0c-42f0-bb0c-1e82b6c01139"
   },
   "outputs": [
    {
     "data": {
      "text/html": [
       "<div>\n",
       "<style scoped>\n",
       "    .dataframe tbody tr th:only-of-type {\n",
       "        vertical-align: middle;\n",
       "    }\n",
       "\n",
       "    .dataframe tbody tr th {\n",
       "        vertical-align: top;\n",
       "    }\n",
       "\n",
       "    .dataframe thead th {\n",
       "        text-align: right;\n",
       "    }\n",
       "</style>\n",
       "<table border=\"1\" class=\"dataframe\">\n",
       "  <thead>\n",
       "    <tr style=\"text-align: right;\">\n",
       "      <th></th>\n",
       "      <th>id</th>\n",
       "      <th>loan_amnt</th>\n",
       "      <th>funded_amnt</th>\n",
       "      <th>funded_amnt_inv</th>\n",
       "      <th>term</th>\n",
       "      <th>int_rate</th>\n",
       "      <th>installment</th>\n",
       "      <th>grade</th>\n",
       "      <th>emp_length</th>\n",
       "      <th>home_ownership</th>\n",
       "      <th>annual_inc</th>\n",
       "      <th>verification_status</th>\n",
       "      <th>issue_d</th>\n",
       "      <th>loan_status</th>\n",
       "      <th>purpose</th>\n",
       "      <th>zip_code</th>\n",
       "      <th>addr_state</th>\n",
       "      <th>dti</th>\n",
       "      <th>pub_rec_bankruptcies</th>\n",
       "    </tr>\n",
       "  </thead>\n",
       "  <tbody>\n",
       "    <tr>\n",
       "      <th>0</th>\n",
       "      <td>1077501</td>\n",
       "      <td>5000</td>\n",
       "      <td>5000</td>\n",
       "      <td>4975.0</td>\n",
       "      <td>36 months</td>\n",
       "      <td>10.65%</td>\n",
       "      <td>162.87</td>\n",
       "      <td>B</td>\n",
       "      <td>10+ years</td>\n",
       "      <td>RENT</td>\n",
       "      <td>24000.0</td>\n",
       "      <td>Verified</td>\n",
       "      <td>Dec-11</td>\n",
       "      <td>Fully Paid</td>\n",
       "      <td>credit_card</td>\n",
       "      <td>860xx</td>\n",
       "      <td>AZ</td>\n",
       "      <td>27.65</td>\n",
       "      <td>0.0</td>\n",
       "    </tr>\n",
       "    <tr>\n",
       "      <th>1</th>\n",
       "      <td>1077430</td>\n",
       "      <td>2500</td>\n",
       "      <td>2500</td>\n",
       "      <td>2500.0</td>\n",
       "      <td>60 months</td>\n",
       "      <td>15.27%</td>\n",
       "      <td>59.83</td>\n",
       "      <td>C</td>\n",
       "      <td>&lt; 1 year</td>\n",
       "      <td>RENT</td>\n",
       "      <td>30000.0</td>\n",
       "      <td>Source Verified</td>\n",
       "      <td>Dec-11</td>\n",
       "      <td>Charged Off</td>\n",
       "      <td>car</td>\n",
       "      <td>309xx</td>\n",
       "      <td>GA</td>\n",
       "      <td>1.00</td>\n",
       "      <td>0.0</td>\n",
       "    </tr>\n",
       "    <tr>\n",
       "      <th>2</th>\n",
       "      <td>1077175</td>\n",
       "      <td>2400</td>\n",
       "      <td>2400</td>\n",
       "      <td>2400.0</td>\n",
       "      <td>36 months</td>\n",
       "      <td>15.96%</td>\n",
       "      <td>84.33</td>\n",
       "      <td>C</td>\n",
       "      <td>10+ years</td>\n",
       "      <td>RENT</td>\n",
       "      <td>12252.0</td>\n",
       "      <td>Not Verified</td>\n",
       "      <td>Dec-11</td>\n",
       "      <td>Fully Paid</td>\n",
       "      <td>small_business</td>\n",
       "      <td>606xx</td>\n",
       "      <td>IL</td>\n",
       "      <td>8.72</td>\n",
       "      <td>0.0</td>\n",
       "    </tr>\n",
       "  </tbody>\n",
       "</table>\n",
       "</div>"
      ],
      "text/plain": [
       "        id  loan_amnt  funded_amnt  funded_amnt_inv        term int_rate  \\\n",
       "0  1077501       5000         5000           4975.0   36 months   10.65%   \n",
       "1  1077430       2500         2500           2500.0   60 months   15.27%   \n",
       "2  1077175       2400         2400           2400.0   36 months   15.96%   \n",
       "\n",
       "   installment grade emp_length home_ownership  annual_inc  \\\n",
       "0       162.87     B  10+ years           RENT     24000.0   \n",
       "1        59.83     C   < 1 year           RENT     30000.0   \n",
       "2        84.33     C  10+ years           RENT     12252.0   \n",
       "\n",
       "  verification_status issue_d  loan_status         purpose zip_code  \\\n",
       "0            Verified  Dec-11   Fully Paid     credit_card    860xx   \n",
       "1     Source Verified  Dec-11  Charged Off             car    309xx   \n",
       "2        Not Verified  Dec-11   Fully Paid  small_business    606xx   \n",
       "\n",
       "  addr_state    dti  pub_rec_bankruptcies  \n",
       "0         AZ  27.65                   0.0  \n",
       "1         GA   1.00                   0.0  \n",
       "2         IL   8.72                   0.0  "
      ]
     },
     "execution_count": 26,
     "metadata": {},
     "output_type": "execute_result"
    }
   ],
   "source": [
    "# Removing emp_title as it is not relevant for EDA; according to the data dictionary, it represents the job title provided by the borrower during the loan application.\n",
    "loan =loan.drop(['emp_title'], axis=1)\n",
    "loan.head(3)"
   ]
  },
  {
   "cell_type": "markdown",
   "metadata": {
    "id": "MUbYi1vMcUDQ"
   },
   "source": [
    "#3 **Data Conversion**"
   ]
  },
  {
   "cell_type": "code",
   "execution_count": 27,
   "metadata": {
    "colab": {
     "base_uri": "https://localhost:8080/"
    },
    "executionInfo": {
     "elapsed": 16,
     "status": "ok",
     "timestamp": 1723977374179,
     "user": {
      "displayName": "ABHILASH KUKAWALKAR",
      "userId": "05666272144897377525"
     },
     "user_tz": -330
    },
    "id": "nVlavvoycdLR",
    "outputId": "0fecddcd-2be8-4f7b-caed-cb2d01c27929"
   },
   "outputs": [
    {
     "name": "stdout",
     "output_type": "stream",
     "text": [
      "loan.dtypes id                        int64\n",
      "loan_amnt                 int64\n",
      "funded_amnt               int64\n",
      "funded_amnt_inv         float64\n",
      "term                     object\n",
      "int_rate                 object\n",
      "installment             float64\n",
      "grade                    object\n",
      "emp_length               object\n",
      "home_ownership           object\n",
      "annual_inc              float64\n",
      "verification_status      object\n",
      "issue_d                  object\n",
      "loan_status              object\n",
      "purpose                  object\n",
      "zip_code                 object\n",
      "addr_state               object\n",
      "dti                     float64\n",
      "pub_rec_bankruptcies    float64\n",
      "dtype: object\n"
     ]
    }
   ],
   "source": [
    "print('loan.dtypes',loan.dtypes)"
   ]
  },
  {
   "cell_type": "code",
   "execution_count": 28,
   "metadata": {
    "colab": {
     "base_uri": "https://localhost:8080/"
    },
    "executionInfo": {
     "elapsed": 13,
     "status": "ok",
     "timestamp": 1723977374179,
     "user": {
      "displayName": "ABHILASH KUKAWALKAR",
      "userId": "05666272144897377525"
     },
     "user_tz": -330
    },
    "id": "q-eDSb6uc6C5",
    "outputId": "aaa7f3bc-e223-4f01-baa9-628267713a4c"
   },
   "outputs": [
    {
     "name": "stdout",
     "output_type": "stream",
     "text": [
      "loan.term.value_counts term\n",
      "36 months    29096\n",
      "60 months     9481\n",
      "Name: count, dtype: int64\n"
     ]
    }
   ],
   "source": [
    "#check values for term field\n",
    "print('loan.term.value_counts',loan['term'].value_counts())"
   ]
  },
  {
   "cell_type": "code",
   "execution_count": 29,
   "metadata": {
    "id": "7CAlmjJ3dUAo"
   },
   "outputs": [],
   "source": [
    "# change the type of terms to int\n",
    "def convert_term_to_int(term):\n",
    "    return int(term.strip().split()[0])\n",
    "\n",
    "loan['term'] = loan['term'].apply(convert_term_to_int)\n"
   ]
  },
  {
   "cell_type": "code",
   "execution_count": 30,
   "metadata": {
    "colab": {
     "base_uri": "https://localhost:8080/"
    },
    "executionInfo": {
     "elapsed": 11,
     "status": "ok",
     "timestamp": 1723977374179,
     "user": {
      "displayName": "ABHILASH KUKAWALKAR",
      "userId": "05666272144897377525"
     },
     "user_tz": -330
    },
    "id": "FDT78jNKdT4G",
    "outputId": "07e113ac-273e-45f7-bd7d-0e11a69e84d7"
   },
   "outputs": [
    {
     "data": {
      "text/plain": [
       "dtype('int64')"
      ]
     },
     "execution_count": 30,
     "metadata": {},
     "output_type": "execute_result"
    }
   ],
   "source": [
    "loan['term'].dtype"
   ]
  },
  {
   "cell_type": "code",
   "execution_count": 31,
   "metadata": {
    "colab": {
     "base_uri": "https://localhost:8080/",
     "height": 490
    },
    "executionInfo": {
     "elapsed": 10,
     "status": "ok",
     "timestamp": 1723977374179,
     "user": {
      "displayName": "ABHILASH KUKAWALKAR",
      "userId": "05666272144897377525"
     },
     "user_tz": -330
    },
    "id": "lcA4mtNzdTsI",
    "outputId": "8c81af49-6fc5-4d5f-aeca-4db371857c04"
   },
   "outputs": [
    {
     "data": {
      "text/plain": [
       "int_rate\n",
       "10.99%    913\n",
       "11.49%    790\n",
       "7.51%     787\n",
       "13.49%    749\n",
       "7.88%     725\n",
       "         ... \n",
       "16.96%      1\n",
       "18.36%      1\n",
       "16.15%      1\n",
       "16.01%      1\n",
       "16.20%      1\n",
       "Name: count, Length: 370, dtype: int64"
      ]
     },
     "execution_count": 31,
     "metadata": {},
     "output_type": "execute_result"
    }
   ],
   "source": [
    "#find out int_rate values count\n",
    "loan['int_rate'].value_counts()"
   ]
  },
  {
   "cell_type": "code",
   "execution_count": 32,
   "metadata": {
    "id": "W7_4iuVUfewK"
   },
   "outputs": [],
   "source": [
    "#Here int_rate is having % in it, let us convert it to float\n",
    "loan['int_rate']=loan['int_rate'].str.strip('%').astype(float)"
   ]
  },
  {
   "cell_type": "code",
   "execution_count": 33,
   "metadata": {
    "colab": {
     "base_uri": "https://localhost:8080/",
     "height": 490
    },
    "executionInfo": {
     "elapsed": 9,
     "status": "ok",
     "timestamp": 1723977374180,
     "user": {
      "displayName": "ABHILASH KUKAWALKAR",
      "userId": "05666272144897377525"
     },
     "user_tz": -330
    },
    "id": "CRrbFmRMfesx",
    "outputId": "fd5e0e59-0a39-4e0f-9ef4-a6997c3f9f6b"
   },
   "outputs": [
    {
     "data": {
      "text/plain": [
       "int_rate\n",
       "10.99    913\n",
       "11.49    790\n",
       "7.51     787\n",
       "13.49    749\n",
       "7.88     725\n",
       "        ... \n",
       "16.96      1\n",
       "18.36      1\n",
       "16.15      1\n",
       "16.01      1\n",
       "16.20      1\n",
       "Name: count, Length: 370, dtype: int64"
      ]
     },
     "execution_count": 33,
     "metadata": {},
     "output_type": "execute_result"
    }
   ],
   "source": [
    "loan['int_rate'].value_counts()"
   ]
  },
  {
   "cell_type": "code",
   "execution_count": 34,
   "metadata": {
    "colab": {
     "base_uri": "https://localhost:8080/",
     "height": 444
    },
    "executionInfo": {
     "elapsed": 631,
     "status": "ok",
     "timestamp": 1723977374803,
     "user": {
      "displayName": "ABHILASH KUKAWALKAR",
      "userId": "05666272144897377525"
     },
     "user_tz": -330
    },
    "id": "BIXI4K3LfeTu",
    "outputId": "239a8f80-2245-47e5-d93a-a26f0fa56f5a"
   },
   "outputs": [
    {
     "data": {
      "text/html": [
       "<div>\n",
       "<style scoped>\n",
       "    .dataframe tbody tr th:only-of-type {\n",
       "        vertical-align: middle;\n",
       "    }\n",
       "\n",
       "    .dataframe tbody tr th {\n",
       "        vertical-align: top;\n",
       "    }\n",
       "\n",
       "    .dataframe thead th {\n",
       "        text-align: right;\n",
       "    }\n",
       "</style>\n",
       "<table border=\"1\" class=\"dataframe\">\n",
       "  <thead>\n",
       "    <tr style=\"text-align: right;\">\n",
       "      <th></th>\n",
       "      <th>id</th>\n",
       "      <th>loan_amnt</th>\n",
       "      <th>funded_amnt</th>\n",
       "      <th>funded_amnt_inv</th>\n",
       "      <th>term</th>\n",
       "      <th>int_rate</th>\n",
       "      <th>installment</th>\n",
       "      <th>grade</th>\n",
       "      <th>emp_length</th>\n",
       "      <th>home_ownership</th>\n",
       "      <th>annual_inc</th>\n",
       "      <th>verification_status</th>\n",
       "      <th>issue_d</th>\n",
       "      <th>loan_status</th>\n",
       "      <th>purpose</th>\n",
       "      <th>zip_code</th>\n",
       "      <th>addr_state</th>\n",
       "      <th>dti</th>\n",
       "      <th>pub_rec_bankruptcies</th>\n",
       "    </tr>\n",
       "  </thead>\n",
       "  <tbody>\n",
       "    <tr>\n",
       "      <th>0</th>\n",
       "      <td>1077501</td>\n",
       "      <td>5000</td>\n",
       "      <td>5000</td>\n",
       "      <td>4975.0</td>\n",
       "      <td>36</td>\n",
       "      <td>10.65</td>\n",
       "      <td>162.87</td>\n",
       "      <td>B</td>\n",
       "      <td>10+ years</td>\n",
       "      <td>RENT</td>\n",
       "      <td>24000.0</td>\n",
       "      <td>Verified</td>\n",
       "      <td>Dec-11</td>\n",
       "      <td>Fully Paid</td>\n",
       "      <td>credit_card</td>\n",
       "      <td>860xx</td>\n",
       "      <td>AZ</td>\n",
       "      <td>27.65</td>\n",
       "      <td>0.0</td>\n",
       "    </tr>\n",
       "    <tr>\n",
       "      <th>1</th>\n",
       "      <td>1077430</td>\n",
       "      <td>2500</td>\n",
       "      <td>2500</td>\n",
       "      <td>2500.0</td>\n",
       "      <td>60</td>\n",
       "      <td>15.27</td>\n",
       "      <td>59.83</td>\n",
       "      <td>C</td>\n",
       "      <td>&lt; 1 year</td>\n",
       "      <td>RENT</td>\n",
       "      <td>30000.0</td>\n",
       "      <td>Source Verified</td>\n",
       "      <td>Dec-11</td>\n",
       "      <td>Charged Off</td>\n",
       "      <td>car</td>\n",
       "      <td>309xx</td>\n",
       "      <td>GA</td>\n",
       "      <td>1.00</td>\n",
       "      <td>0.0</td>\n",
       "    </tr>\n",
       "    <tr>\n",
       "      <th>2</th>\n",
       "      <td>1077175</td>\n",
       "      <td>2400</td>\n",
       "      <td>2400</td>\n",
       "      <td>2400.0</td>\n",
       "      <td>36</td>\n",
       "      <td>15.96</td>\n",
       "      <td>84.33</td>\n",
       "      <td>C</td>\n",
       "      <td>10+ years</td>\n",
       "      <td>RENT</td>\n",
       "      <td>12252.0</td>\n",
       "      <td>Not Verified</td>\n",
       "      <td>Dec-11</td>\n",
       "      <td>Fully Paid</td>\n",
       "      <td>small_business</td>\n",
       "      <td>606xx</td>\n",
       "      <td>IL</td>\n",
       "      <td>8.72</td>\n",
       "      <td>0.0</td>\n",
       "    </tr>\n",
       "    <tr>\n",
       "      <th>3</th>\n",
       "      <td>1076863</td>\n",
       "      <td>10000</td>\n",
       "      <td>10000</td>\n",
       "      <td>10000.0</td>\n",
       "      <td>36</td>\n",
       "      <td>13.49</td>\n",
       "      <td>339.31</td>\n",
       "      <td>C</td>\n",
       "      <td>10+ years</td>\n",
       "      <td>RENT</td>\n",
       "      <td>49200.0</td>\n",
       "      <td>Source Verified</td>\n",
       "      <td>Dec-11</td>\n",
       "      <td>Fully Paid</td>\n",
       "      <td>other</td>\n",
       "      <td>917xx</td>\n",
       "      <td>CA</td>\n",
       "      <td>20.00</td>\n",
       "      <td>0.0</td>\n",
       "    </tr>\n",
       "    <tr>\n",
       "      <th>5</th>\n",
       "      <td>1075269</td>\n",
       "      <td>5000</td>\n",
       "      <td>5000</td>\n",
       "      <td>5000.0</td>\n",
       "      <td>36</td>\n",
       "      <td>7.90</td>\n",
       "      <td>156.46</td>\n",
       "      <td>A</td>\n",
       "      <td>3 years</td>\n",
       "      <td>RENT</td>\n",
       "      <td>36000.0</td>\n",
       "      <td>Source Verified</td>\n",
       "      <td>Dec-11</td>\n",
       "      <td>Fully Paid</td>\n",
       "      <td>wedding</td>\n",
       "      <td>852xx</td>\n",
       "      <td>AZ</td>\n",
       "      <td>11.20</td>\n",
       "      <td>0.0</td>\n",
       "    </tr>\n",
       "    <tr>\n",
       "      <th>...</th>\n",
       "      <td>...</td>\n",
       "      <td>...</td>\n",
       "      <td>...</td>\n",
       "      <td>...</td>\n",
       "      <td>...</td>\n",
       "      <td>...</td>\n",
       "      <td>...</td>\n",
       "      <td>...</td>\n",
       "      <td>...</td>\n",
       "      <td>...</td>\n",
       "      <td>...</td>\n",
       "      <td>...</td>\n",
       "      <td>...</td>\n",
       "      <td>...</td>\n",
       "      <td>...</td>\n",
       "      <td>...</td>\n",
       "      <td>...</td>\n",
       "      <td>...</td>\n",
       "      <td>...</td>\n",
       "    </tr>\n",
       "    <tr>\n",
       "      <th>39712</th>\n",
       "      <td>92187</td>\n",
       "      <td>2500</td>\n",
       "      <td>2500</td>\n",
       "      <td>1075.0</td>\n",
       "      <td>36</td>\n",
       "      <td>8.07</td>\n",
       "      <td>78.42</td>\n",
       "      <td>A</td>\n",
       "      <td>4 years</td>\n",
       "      <td>MORTGAGE</td>\n",
       "      <td>110000.0</td>\n",
       "      <td>Not Verified</td>\n",
       "      <td>Jul-07</td>\n",
       "      <td>Fully Paid</td>\n",
       "      <td>home_improvement</td>\n",
       "      <td>802xx</td>\n",
       "      <td>CO</td>\n",
       "      <td>11.33</td>\n",
       "      <td>NaN</td>\n",
       "    </tr>\n",
       "    <tr>\n",
       "      <th>39713</th>\n",
       "      <td>90665</td>\n",
       "      <td>8500</td>\n",
       "      <td>8500</td>\n",
       "      <td>875.0</td>\n",
       "      <td>36</td>\n",
       "      <td>10.28</td>\n",
       "      <td>275.38</td>\n",
       "      <td>C</td>\n",
       "      <td>3 years</td>\n",
       "      <td>RENT</td>\n",
       "      <td>18000.0</td>\n",
       "      <td>Not Verified</td>\n",
       "      <td>Jul-07</td>\n",
       "      <td>Fully Paid</td>\n",
       "      <td>credit_card</td>\n",
       "      <td>274xx</td>\n",
       "      <td>NC</td>\n",
       "      <td>6.40</td>\n",
       "      <td>NaN</td>\n",
       "    </tr>\n",
       "    <tr>\n",
       "      <th>39714</th>\n",
       "      <td>90395</td>\n",
       "      <td>5000</td>\n",
       "      <td>5000</td>\n",
       "      <td>1325.0</td>\n",
       "      <td>36</td>\n",
       "      <td>8.07</td>\n",
       "      <td>156.84</td>\n",
       "      <td>A</td>\n",
       "      <td>&lt; 1 year</td>\n",
       "      <td>MORTGAGE</td>\n",
       "      <td>100000.0</td>\n",
       "      <td>Not Verified</td>\n",
       "      <td>Jul-07</td>\n",
       "      <td>Fully Paid</td>\n",
       "      <td>debt_consolidation</td>\n",
       "      <td>017xx</td>\n",
       "      <td>MA</td>\n",
       "      <td>2.30</td>\n",
       "      <td>NaN</td>\n",
       "    </tr>\n",
       "    <tr>\n",
       "      <th>39715</th>\n",
       "      <td>90376</td>\n",
       "      <td>5000</td>\n",
       "      <td>5000</td>\n",
       "      <td>650.0</td>\n",
       "      <td>36</td>\n",
       "      <td>7.43</td>\n",
       "      <td>155.38</td>\n",
       "      <td>A</td>\n",
       "      <td>&lt; 1 year</td>\n",
       "      <td>MORTGAGE</td>\n",
       "      <td>200000.0</td>\n",
       "      <td>Not Verified</td>\n",
       "      <td>Jul-07</td>\n",
       "      <td>Fully Paid</td>\n",
       "      <td>other</td>\n",
       "      <td>208xx</td>\n",
       "      <td>MD</td>\n",
       "      <td>3.72</td>\n",
       "      <td>NaN</td>\n",
       "    </tr>\n",
       "    <tr>\n",
       "      <th>39716</th>\n",
       "      <td>87023</td>\n",
       "      <td>7500</td>\n",
       "      <td>7500</td>\n",
       "      <td>800.0</td>\n",
       "      <td>36</td>\n",
       "      <td>13.75</td>\n",
       "      <td>255.43</td>\n",
       "      <td>E</td>\n",
       "      <td>&lt; 1 year</td>\n",
       "      <td>OWN</td>\n",
       "      <td>22000.0</td>\n",
       "      <td>Not Verified</td>\n",
       "      <td>Jun-07</td>\n",
       "      <td>Fully Paid</td>\n",
       "      <td>debt_consolidation</td>\n",
       "      <td>027xx</td>\n",
       "      <td>MA</td>\n",
       "      <td>14.29</td>\n",
       "      <td>NaN</td>\n",
       "    </tr>\n",
       "  </tbody>\n",
       "</table>\n",
       "<p>38577 rows × 19 columns</p>\n",
       "</div>"
      ],
      "text/plain": [
       "            id  loan_amnt  funded_amnt  funded_amnt_inv  term  int_rate  \\\n",
       "0      1077501       5000         5000           4975.0    36     10.65   \n",
       "1      1077430       2500         2500           2500.0    60     15.27   \n",
       "2      1077175       2400         2400           2400.0    36     15.96   \n",
       "3      1076863      10000        10000          10000.0    36     13.49   \n",
       "5      1075269       5000         5000           5000.0    36      7.90   \n",
       "...        ...        ...          ...              ...   ...       ...   \n",
       "39712    92187       2500         2500           1075.0    36      8.07   \n",
       "39713    90665       8500         8500            875.0    36     10.28   \n",
       "39714    90395       5000         5000           1325.0    36      8.07   \n",
       "39715    90376       5000         5000            650.0    36      7.43   \n",
       "39716    87023       7500         7500            800.0    36     13.75   \n",
       "\n",
       "       installment grade emp_length home_ownership  annual_inc  \\\n",
       "0           162.87     B  10+ years           RENT     24000.0   \n",
       "1            59.83     C   < 1 year           RENT     30000.0   \n",
       "2            84.33     C  10+ years           RENT     12252.0   \n",
       "3           339.31     C  10+ years           RENT     49200.0   \n",
       "5           156.46     A    3 years           RENT     36000.0   \n",
       "...            ...   ...        ...            ...         ...   \n",
       "39712        78.42     A    4 years       MORTGAGE    110000.0   \n",
       "39713       275.38     C    3 years           RENT     18000.0   \n",
       "39714       156.84     A   < 1 year       MORTGAGE    100000.0   \n",
       "39715       155.38     A   < 1 year       MORTGAGE    200000.0   \n",
       "39716       255.43     E   < 1 year            OWN     22000.0   \n",
       "\n",
       "      verification_status issue_d  loan_status             purpose zip_code  \\\n",
       "0                Verified  Dec-11   Fully Paid         credit_card    860xx   \n",
       "1         Source Verified  Dec-11  Charged Off                 car    309xx   \n",
       "2            Not Verified  Dec-11   Fully Paid      small_business    606xx   \n",
       "3         Source Verified  Dec-11   Fully Paid               other    917xx   \n",
       "5         Source Verified  Dec-11   Fully Paid             wedding    852xx   \n",
       "...                   ...     ...          ...                 ...      ...   \n",
       "39712        Not Verified  Jul-07   Fully Paid    home_improvement    802xx   \n",
       "39713        Not Verified  Jul-07   Fully Paid         credit_card    274xx   \n",
       "39714        Not Verified  Jul-07   Fully Paid  debt_consolidation    017xx   \n",
       "39715        Not Verified  Jul-07   Fully Paid               other    208xx   \n",
       "39716        Not Verified  Jun-07   Fully Paid  debt_consolidation    027xx   \n",
       "\n",
       "      addr_state    dti  pub_rec_bankruptcies  \n",
       "0             AZ  27.65                   0.0  \n",
       "1             GA   1.00                   0.0  \n",
       "2             IL   8.72                   0.0  \n",
       "3             CA  20.00                   0.0  \n",
       "5             AZ  11.20                   0.0  \n",
       "...          ...    ...                   ...  \n",
       "39712         CO  11.33                   NaN  \n",
       "39713         NC   6.40                   NaN  \n",
       "39714         MA   2.30                   NaN  \n",
       "39715         MD   3.72                   NaN  \n",
       "39716         MA  14.29                   NaN  \n",
       "\n",
       "[38577 rows x 19 columns]"
      ]
     },
     "execution_count": 34,
     "metadata": {},
     "output_type": "execute_result"
    }
   ],
   "source": [
    "# Convert the column loan_funded_amnt and funded_amnt as flot64\n",
    "loanf = loan.astype({'loan_amnt':'float','funded_amnt':'float'})\n",
    "loan"
   ]
  },
  {
   "cell_type": "code",
   "execution_count": 35,
   "metadata": {
    "colab": {
     "base_uri": "https://localhost:8080/",
     "height": 335
    },
    "executionInfo": {
     "elapsed": 23,
     "status": "ok",
     "timestamp": 1723977374804,
     "user": {
      "displayName": "ABHILASH KUKAWALKAR",
      "userId": "05666272144897377525"
     },
     "user_tz": -330
    },
    "id": "9fUerC98hlxe",
    "outputId": "bb7398e6-5b3a-4221-c2ad-a5ea60578d08"
   },
   "outputs": [
    {
     "data": {
      "text/plain": [
       "grade\n",
       "B    11675\n",
       "A    10045\n",
       "C     7834\n",
       "D     5085\n",
       "E     2663\n",
       "F      976\n",
       "G      299\n",
       "Name: count, dtype: int64"
      ]
     },
     "execution_count": 35,
     "metadata": {},
     "output_type": "execute_result"
    }
   ],
   "source": [
    "# check grade dattype.\n",
    "loan['grade'].value_counts()"
   ]
  },
  {
   "cell_type": "code",
   "execution_count": 36,
   "metadata": {
    "colab": {
     "base_uri": "https://localhost:8080/",
     "height": 460
    },
    "executionInfo": {
     "elapsed": 22,
     "status": "ok",
     "timestamp": 1723977374804,
     "user": {
      "displayName": "ABHILASH KUKAWALKAR",
      "userId": "05666272144897377525"
     },
     "user_tz": -330
    },
    "id": "WDrlm3hchq0G",
    "outputId": "c23ce590-6f0b-4ec0-f886-fb2ea18537cf"
   },
   "outputs": [
    {
     "data": {
      "text/plain": [
       "emp_length\n",
       "10+ years    8488\n",
       "< 1 year     4508\n",
       "2 years      4291\n",
       "3 years      4012\n",
       "4 years      3342\n",
       "5 years      3194\n",
       "1 year       3169\n",
       "6 years      2168\n",
       "7 years      1711\n",
       "8 years      1435\n",
       "9 years      1226\n",
       "Name: count, dtype: int64"
      ]
     },
     "execution_count": 36,
     "metadata": {},
     "output_type": "execute_result"
    }
   ],
   "source": [
    "loan['emp_length'].value_counts()"
   ]
  },
  {
   "cell_type": "code",
   "execution_count": 37,
   "metadata": {
    "colab": {
     "base_uri": "https://localhost:8080/"
    },
    "executionInfo": {
     "elapsed": 21,
     "status": "ok",
     "timestamp": 1723977374804,
     "user": {
      "displayName": "ABHILASH KUKAWALKAR",
      "userId": "05666272144897377525"
     },
     "user_tz": -330
    },
    "id": "MAf13zz4iCew",
    "outputId": "1e8967ff-73a1-4c94-c02e-8a6524cd41d4"
   },
   "outputs": [
    {
     "name": "stdout",
     "output_type": "stream",
     "text": [
      "0         5000\n",
      "1         2500\n",
      "2         2400\n",
      "3        10000\n",
      "5         5000\n",
      "         ...  \n",
      "39712     2500\n",
      "39713     8500\n",
      "39714     5000\n",
      "39715     5000\n",
      "39716     7500\n",
      "Name: loan_amnt, Length: 38577, dtype: int64\n",
      "0         5000\n",
      "1         2500\n",
      "2         2400\n",
      "3        10000\n",
      "5         5000\n",
      "         ...  \n",
      "39712     2500\n",
      "39713     8500\n",
      "39714     5000\n",
      "39715     5000\n",
      "39716     7500\n",
      "Name: funded_amnt, Length: 38577, dtype: int64\n",
      "0         4975.0\n",
      "1         2500.0\n",
      "2         2400.0\n",
      "3        10000.0\n",
      "5         5000.0\n",
      "          ...   \n",
      "39712     1075.0\n",
      "39713      875.0\n",
      "39714     1325.0\n",
      "39715      650.0\n",
      "39716      800.0\n",
      "Name: funded_amnt_inv, Length: 38577, dtype: float64\n",
      "0        10.65\n",
      "1        15.27\n",
      "2        15.96\n",
      "3        13.49\n",
      "5         7.90\n",
      "         ...  \n",
      "39712     8.07\n",
      "39713    10.28\n",
      "39714     8.07\n",
      "39715     7.43\n",
      "39716    13.75\n",
      "Name: int_rate, Length: 38577, dtype: float64\n",
      "0        27.65\n",
      "1         1.00\n",
      "2         8.72\n",
      "3        20.00\n",
      "5        11.20\n",
      "         ...  \n",
      "39712    11.33\n",
      "39713     6.40\n",
      "39714     2.30\n",
      "39715     3.72\n",
      "39716    14.29\n",
      "Name: dti, Length: 38577, dtype: float64\n"
     ]
    }
   ],
   "source": [
    "# Rounding to two decimals points : offloan_amnt, funded_amnt, funded_amnt_inv, int_rate and dti \n",
    "for clmn in ['loan_amnt', 'funded_amnt', 'funded_amnt_inv', 'int_rate', 'dti']:\n",
    "    loan[clmn] = loan[clmn].apply(lambda x: round(x,2))\n",
    "    print(loan[clmn])"
   ]
  },
  {
   "cell_type": "code",
   "execution_count": 38,
   "metadata": {
    "colab": {
     "base_uri": "https://localhost:8080/",
     "height": 458
    },
    "executionInfo": {
     "elapsed": 20,
     "status": "ok",
     "timestamp": 1723977374804,
     "user": {
      "displayName": "ABHILASH KUKAWALKAR",
      "userId": "05666272144897377525"
     },
     "user_tz": -330
    },
    "id": "2T-KfN90i-0o",
    "outputId": "51aa20c4-a734-4690-d31f-eff5c0117a08"
   },
   "outputs": [
    {
     "data": {
      "text/plain": [
       "0       2011-12-01\n",
       "1       2011-12-01\n",
       "2       2011-12-01\n",
       "3       2011-12-01\n",
       "5       2011-12-01\n",
       "           ...    \n",
       "39712   2007-07-01\n",
       "39713   2007-07-01\n",
       "39714   2007-07-01\n",
       "39715   2007-07-01\n",
       "39716   2007-06-01\n",
       "Name: issue_d, Length: 38577, dtype: datetime64[ns]"
      ]
     },
     "execution_count": 38,
     "metadata": {},
     "output_type": "execute_result"
    }
   ],
   "source": [
    "#converting issue_d to date type\n",
    "loan['issue_d'] = pd.to_datetime(loan.issue_d, format='%b-%y')\n",
    "loan['issue_d']"
   ]
  },
  {
   "cell_type": "code",
   "execution_count": 39,
   "metadata": {
    "colab": {
     "base_uri": "https://localhost:8080/",
     "height": 680
    },
    "executionInfo": {
     "elapsed": 19,
     "status": "ok",
     "timestamp": 1723977374804,
     "user": {
      "displayName": "ABHILASH KUKAWALKAR",
      "userId": "05666272144897377525"
     },
     "user_tz": -330
    },
    "id": "MzI22KxajSnZ",
    "outputId": "a0773d7c-e4d0-44bd-d35c-57a49109afbc"
   },
   "outputs": [
    {
     "data": {
      "text/plain": [
       "id                      0.000000\n",
       "loan_amnt               0.000000\n",
       "funded_amnt             0.000000\n",
       "funded_amnt_inv         0.000000\n",
       "term                    0.000000\n",
       "int_rate                0.000000\n",
       "installment             0.000000\n",
       "grade                   0.000000\n",
       "emp_length              2.677761\n",
       "home_ownership          0.000000\n",
       "annual_inc              0.000000\n",
       "verification_status     0.000000\n",
       "issue_d                 0.000000\n",
       "loan_status             0.000000\n",
       "purpose                 0.000000\n",
       "zip_code                0.000000\n",
       "addr_state              0.000000\n",
       "dti                     0.000000\n",
       "pub_rec_bankruptcies    1.806776\n",
       "dtype: float64"
      ]
     },
     "execution_count": 39,
     "metadata": {},
     "output_type": "execute_result"
    }
   ],
   "source": [
    "# if any column is null field or not\n",
    "(loan.isnull().sum()*100)/len(loan)"
   ]
  },
  {
   "cell_type": "markdown",
   "metadata": {
    "id": "mn08XmfycO7e"
   },
   "source": []
  },
  {
   "cell_type": "markdown",
   "metadata": {
    "id": "1eFiSQumjpmD"
   },
   "source": [
    "#4 **Dropping the rows.**"
   ]
  },
  {
   "cell_type": "code",
   "execution_count": 40,
   "metadata": {
    "colab": {
     "base_uri": "https://localhost:8080/"
    },
    "executionInfo": {
     "elapsed": 18,
     "status": "ok",
     "timestamp": 1723977374804,
     "user": {
      "displayName": "ABHILASH KUKAWALKAR",
      "userId": "05666272144897377525"
     },
     "user_tz": -330
    },
    "id": "m4DhS_9mjtzw",
    "outputId": "7d1a79cf-acc2-47d3-bd80-1cb9a1d32e40"
   },
   "outputs": [
    {
     "data": {
      "text/plain": [
       "38577"
      ]
     },
     "execution_count": 40,
     "metadata": {},
     "output_type": "execute_result"
    }
   ],
   "source": [
    "# Dropping the null rows for emp_length and pub_rec_bankruptcies columns as number of null rows are very less.\n",
    "prev_rows=len(loan)\n",
    "prev_rows"
   ]
  },
  {
   "cell_type": "code",
   "execution_count": 41,
   "metadata": {
    "id": "M4XblwLuj5TD"
   },
   "outputs": [],
   "source": [
    "loan= loan[loan['emp_length'].notna()]\n",
    "loan= loan[loan['pub_rec_bankruptcies'].notna()]"
   ]
  },
  {
   "cell_type": "code",
   "execution_count": 42,
   "metadata": {
    "colab": {
     "base_uri": "https://localhost:8080/"
    },
    "executionInfo": {
     "elapsed": 15,
     "status": "ok",
     "timestamp": 1723977374804,
     "user": {
      "displayName": "ABHILASH KUKAWALKAR",
      "userId": "05666272144897377525"
     },
     "user_tz": -330
    },
    "id": "ze4M9DgHj-pz",
    "outputId": "b4b57f50-3cf9-4dcd-d42f-5fe95eca6fdc"
   },
   "outputs": [
    {
     "name": "stdout",
     "output_type": "stream",
     "text": [
      "Total % of rows deleted: 4.48\n",
      "(36847, 19)\n"
     ]
    }
   ],
   "source": [
    "after_rows=len(loan)\n",
    "total_deleted=((prev_rows-after_rows)*100)/prev_rows\n",
    "print(\"Total % of rows deleted:\",round(total_deleted,2))\n",
    "print(loan.shape)"
   ]
  },
  {
   "cell_type": "code",
   "execution_count": 43,
   "metadata": {
    "colab": {
     "base_uri": "https://localhost:8080/",
     "height": 680
    },
    "executionInfo": {
     "elapsed": 14,
     "status": "ok",
     "timestamp": 1723977374804,
     "user": {
      "displayName": "ABHILASH KUKAWALKAR",
      "userId": "05666272144897377525"
     },
     "user_tz": -330
    },
    "id": "Ss7Vu16MkOJh",
    "outputId": "d92fdab3-938b-45a5-846d-77090c247d27"
   },
   "outputs": [
    {
     "data": {
      "text/plain": [
       "id                      0.0\n",
       "loan_amnt               0.0\n",
       "funded_amnt             0.0\n",
       "funded_amnt_inv         0.0\n",
       "term                    0.0\n",
       "int_rate                0.0\n",
       "installment             0.0\n",
       "grade                   0.0\n",
       "emp_length              0.0\n",
       "home_ownership          0.0\n",
       "annual_inc              0.0\n",
       "verification_status     0.0\n",
       "issue_d                 0.0\n",
       "loan_status             0.0\n",
       "purpose                 0.0\n",
       "zip_code                0.0\n",
       "addr_state              0.0\n",
       "dti                     0.0\n",
       "pub_rec_bankruptcies    0.0\n",
       "dtype: float64"
      ]
     },
     "execution_count": 43,
     "metadata": {},
     "output_type": "execute_result"
    }
   ],
   "source": [
    "# Check if there is any more na\n",
    "(loan.isnull().sum()*100)/len(loan)"
   ]
  },
  {
   "cell_type": "code",
   "execution_count": 44,
   "metadata": {
    "id": "ldKQ6v12k63D"
   },
   "outputs": [],
   "source": [
    "# Checkpoint : we dont see any more na now"
   ]
  },
  {
   "cell_type": "code",
   "execution_count": 45,
   "metadata": {
    "id": "-xeEatWolCB7"
   },
   "outputs": [],
   "source": [
    "#let us correct emp length part\n",
    "def strip_emp_length(x):\n",
    "  x=x.strip(\"years\")\n",
    "  x=x.strip(\"<\")\n",
    "  x=x.replace(\" \", \"\")\n",
    "  x=x.replace(\"+\", \"\")\n",
    "  return x\n",
    "\n",
    "loan['emp_length']=loan['emp_length'].apply(lambda x : strip_emp_length(x) )"
   ]
  },
  {
   "cell_type": "code",
   "execution_count": 46,
   "metadata": {
    "colab": {
     "base_uri": "https://localhost:8080/"
    },
    "executionInfo": {
     "elapsed": 13,
     "status": "ok",
     "timestamp": 1723977374805,
     "user": {
      "displayName": "ABHILASH KUKAWALKAR",
      "userId": "05666272144897377525"
     },
     "user_tz": -330
    },
    "id": "UfvukjZhlWGf",
    "outputId": "87eaac1c-04b0-48f8-f5b3-93dfc3298859"
   },
   "outputs": [
    {
     "name": "stdout",
     "output_type": "stream",
     "text": [
      "0        10\n",
      "1         1\n",
      "2        10\n",
      "3        10\n",
      "5         3\n",
      "         ..\n",
      "39562     1\n",
      "39573     3\n",
      "39623     8\n",
      "39666     2\n",
      "39680     2\n",
      "Name: emp_length, Length: 36847, dtype: object\n"
     ]
    }
   ],
   "source": [
    "print(loan['emp_length'])"
   ]
  },
  {
   "cell_type": "markdown",
   "metadata": {
    "id": "Jbh4a1Nzlgc8"
   },
   "source": [
    "#4 **Derived columns**"
   ]
  },
  {
   "cell_type": "code",
   "execution_count": 47,
   "metadata": {
    "id": "SQAwR_l8la4J"
   },
   "outputs": [],
   "source": [
    "# Creating a dervied columns for issue month and issue year from issues date\n",
    "loan['issue_year']=pd.DatetimeIndex(loan['issue_d']).year\n",
    "loan['issue_month']=pd.DatetimeIndex(loan['issue_d']).month"
   ]
  },
  {
   "cell_type": "code",
   "execution_count": 48,
   "metadata": {
    "colab": {
     "base_uri": "https://localhost:8080/",
     "height": 621
    },
    "executionInfo": {
     "elapsed": 6,
     "status": "ok",
     "timestamp": 1723977375470,
     "user": {
      "displayName": "ABHILASH KUKAWALKAR",
      "userId": "05666272144897377525"
     },
     "user_tz": -330
    },
    "id": "2TkYmNfxlsu2",
    "outputId": "a9fee594-01f9-42bf-ee48-841a543e0c96"
   },
   "outputs": [
    {
     "name": "stdout",
     "output_type": "stream",
     "text": [
      "(36847, 21)\n",
      "count    36847.000000\n",
      "mean     11141.327652\n",
      "std       7369.988994\n",
      "min        500.000000\n",
      "25%       5500.000000\n",
      "50%      10000.000000\n",
      "75%      15000.000000\n",
      "max      35000.000000\n",
      "Name: loan_amnt, dtype: float64\n"
     ]
    },
    {
     "data": {
      "text/plain": [
       "<Axes: >"
      ]
     },
     "execution_count": 48,
     "metadata": {},
     "output_type": "execute_result"
    },
    {
     "data": {
      "image/png": "[encoded data removed]",
      "text/plain": [
       "<Figure size 640x480 with 1 Axes>"
      ]
     },
     "metadata": {},
     "output_type": "display_data"
    }
   ],
   "source": [
    "print(loan.shape)\n",
    "print(loan[\"loan_amnt\"].describe())\n",
    "loan['loan_amnt'].plot(kind='box')"
   ]
  },
  {
   "cell_type": "markdown",
   "metadata": {
    "id": "y8vXgEynl_Ni"
   },
   "source": [
    "#5 **Univariate Analysis**"
   ]
  },
  {
   "cell_type": "markdown",
   "metadata": {
    "id": "svRyanhvl6R_"
   },
   "source": []
  },
  {
   "cell_type": "code",
   "execution_count": 49,
   "metadata": {
    "id": "dZ3XwUuvlzIe"
   },
   "outputs": [],
   "source": [
    "# Column metadata used by functions below\n",
    "column_titles = {\n",
    "    'loan_amnt': 'Loan Amount',\n",
    "    'funded_amnt': 'Funded Amount',\n",
    "    'funded_amnt_inv': 'Funded Amount Investors',\n",
    "    'term': 'Loan Term',\n",
    "    'int_rate': 'Interest Rate',\n",
    "    'installment': 'Installment',\n",
    "    'grade': 'Grade',\n",
    "    'emp_length': 'Employment Length',\n",
    "    'home_ownership': 'Home Owner Status',\n",
    "    'annual_inc': 'Annuap Income',\n",
    "    'verification_status': 'Verification Status',\n",
    "    'issue_d': 'Issue Date',\n",
    "    'loan_status': 'Loan Status',\n",
    "    'purpose': 'Purpose of Loan',\n",
    "    'addr_state': 'State',\n",
    "    'dti': 'Debt To Income Ratio',\n",
    "    'pub_rec_bankruptcies': 'Bankruptcies Record',\n",
    "    'issue_y': 'Issue Year',\n",
    "    'issue_m': 'Issue Month',\n",
    "    'issue_q': 'Issue Quarter',\n",
    "    'loan_amnt_b': 'Loan Amount Bins',\n",
    "    'funded_amnt_inv_b': 'Investor Funded Bins',\n",
    "    'funded_amnt_b': 'Funded Amount Bins',\n",
    "    'annual_inc_b': 'Annual Income Bins',\n",
    "    'int_rate_b': 'Interest Rate Bins',\n",
    "    'dti_b': 'DTI Bins'\n",
    "}"
   ]
  },
  {
   "cell_type": "code",
   "execution_count": 50,
   "metadata": {
    "id": "RSyNmeBUmHuL"
   },
   "outputs": [],
   "source": [
    "#Bucketing different varaibles for better analysis"
   ]
  },
  {
   "cell_type": "code",
   "execution_count": 51,
   "metadata": {
    "id": "juEbdPn5mKwr"
   },
   "outputs": [],
   "source": [
    "# Bucketting Loan Amount\n",
    "def bucket_loan_amnt(column):\n",
    "    if column <= 5000:\n",
    "        return '0 - 5K'  # 25% quartile\n",
    "    elif (column >5000) and (column <= 10000):\n",
    "        return '5K - 10K'\n",
    "    elif (column >10000) and (column <= 15000):\n",
    "        return '10K - 15K'\n",
    "    else:\n",
    "        return '15K - above' # 75% quartile\n",
    "\n",
    "loan['loan_amnt_b'] = loan.apply(lambda x : bucket_loan_amnt(x['loan_amnt']), axis = 1)"
   ]
  },
  {
   "cell_type": "code",
   "execution_count": 52,
   "metadata": {
    "id": "oT1gYRzAmUNI"
   },
   "outputs": [],
   "source": [
    "#Bucketing Annual Income\n",
    "def bucket_annual_inc(column):\n",
    "    if column <= 40000:\n",
    "        return '0 - 40k' # 25% quartile\n",
    "    elif (column >40000) and (column <= 50000):\n",
    "        return '40k - 50k'\n",
    "    elif (column >50000) and (column <= 60000):\n",
    "        return '50k to 60k'\n",
    "    elif (column >60000) and (column <= 70000):\n",
    "        return '60k to 70k'\n",
    "    elif (column >70000) and (column <= 80000):\n",
    "        return '70k to 80k'\n",
    "    else:\n",
    "        return '80k - above' # 75% quartile\n",
    "\n",
    "loan['annual_inc_b'] = loan.apply(lambda x: bucket_annual_inc(x['annual_inc']), axis = 1)"
   ]
  },
  {
   "cell_type": "code",
   "execution_count": 53,
   "metadata": {
    "id": "hfd2RoZbmZfo"
   },
   "outputs": [],
   "source": [
    "# Bucketing interest rate\n",
    "def bucket_int_rate(column):\n",
    "    if column <= 9:\n",
    "        return 'Very Low' # 25% quartile\n",
    "    elif (column >9) and (column <= 11):\n",
    "        return 'Low'\n",
    "    elif (column >11) and (column <= 13):\n",
    "        return 'Moderate'\n",
    "    elif (column >13) and (column <= 15):\n",
    "        return 'High'\n",
    "    else:\n",
    "        return 'Very High' # 75% quartile\n",
    "\n",
    "loan['int_rate_b'] = loan.apply(lambda x : bucket_int_rate(x.int_rate), axis = 1)"
   ]
  },
  {
   "cell_type": "code",
   "execution_count": 54,
   "metadata": {
    "id": "KX7UHvQ3mgV_"
   },
   "outputs": [],
   "source": [
    "# Bucketing dti\n",
    "def bucket_dti(column):\n",
    "    if column <= 8:\n",
    "        return 'Very Low' # 25% quartile\n",
    "    elif (column >8) and (column <= 12):\n",
    "        return 'Low'\n",
    "    elif (column >12) and (column <= 16):\n",
    "        return 'Moderate'\n",
    "    elif (column >16) and (column <= 20):\n",
    "        return 'High'\n",
    "    else:\n",
    "        return 'Very High' # 75% quartile\n",
    "\n",
    "loan['dti_b'] = loan.apply(lambda x : bucket_dti(x.dti), axis = 1)"
   ]
  },
  {
   "cell_type": "code",
   "execution_count": 55,
   "metadata": {
    "id": "pMpjqO4vmn4z"
   },
   "outputs": [],
   "source": [
    "# Univarients function\n",
    "def plot_digram(df, column):\n",
    "    fig, p = plot.subplots(1,2, figsize=(16, 4))\n",
    "    sea.distplot(df.loc[df[column].notnull(), column], kde=True, hist=True, ax=p[0])\n",
    "    sea.boxplot(x=column, data=df, ax=p[1])\n",
    "    p[0].set_xlabel(column_titles[column])\n",
    "    p[1].set_xlabel(column_titles[column])\n",
    "    plot.tight_layout()\n",
    "    plot.show()"
   ]
  },
  {
   "cell_type": "code",
   "execution_count": 56,
   "metadata": {
    "colab": {
     "base_uri": "https://localhost:8080/",
     "height": 430
    },
    "executionInfo": {
     "elapsed": 5,
     "status": "ok",
     "timestamp": 1723977378311,
     "user": {
      "displayName": "ABHILASH KUKAWALKAR",
      "userId": "05666272144897377525"
     },
     "user_tz": -330
    },
    "id": "KGdo4AzKnAOG",
    "outputId": "cb4f5611-7503-45c0-9ed3-67e41def03e5"
   },
   "outputs": [
    {
     "data": {
      "image/png": "[encoded data removed]",
      "text/plain": [
       "<Figure size 640x480 with 1 Axes>"
      ]
     },
     "metadata": {},
     "output_type": "display_data"
    }
   ],
   "source": [
    "plot.boxplot(loan['loan_amnt'],)\n",
    "plot.show()"
   ]
  },
  {
   "cell_type": "code",
   "execution_count": 57,
   "metadata": {
    "colab": {
     "base_uri": "https://localhost:8080/",
     "height": 430
    },
    "executionInfo": {
     "elapsed": 942,
     "status": "ok",
     "timestamp": 1723977379249,
     "user": {
      "displayName": "ABHILASH KUKAWALKAR",
      "userId": "05666272144897377525"
     },
     "user_tz": -330
    },
    "id": "H_HBwXEzn0_Q",
    "outputId": "bed79865-7f9b-411c-d080-bf21c157599f"
   },
   "outputs": [
    {
     "data": {
      "image/png": "[encoded data removed]",
      "text/plain": [
       "<Figure size 640x480 with 1 Axes>"
      ]
     },
     "metadata": {},
     "output_type": "display_data"
    }
   ],
   "source": [
    "plot.boxplot(loan['funded_amnt'])\n",
    "plot.show()"
   ]
  },
  {
   "cell_type": "code",
   "execution_count": 58,
   "metadata": {
    "colab": {
     "base_uri": "https://localhost:8080/",
     "height": 430
    },
    "executionInfo": {
     "elapsed": 8,
     "status": "ok",
     "timestamp": 1723977379249,
     "user": {
      "displayName": "ABHILASH KUKAWALKAR",
      "userId": "05666272144897377525"
     },
     "user_tz": -330
    },
    "id": "W0Vsepu_n59X",
    "outputId": "41686800-5307-4bf5-d8ec-ab942e255a91"
   },
   "outputs": [
    {
     "data": {
      "image/png": "[encoded data removed]",
      "text/plain": [
       "<Figure size 640x480 with 1 Axes>"
      ]
     },
     "metadata": {},
     "output_type": "display_data"
    }
   ],
   "source": [
    "plot.boxplot(loan['funded_amnt_inv'])\n",
    "plot.show()"
   ]
  },
  {
   "cell_type": "code",
   "execution_count": 59,
   "metadata": {
    "colab": {
     "base_uri": "https://localhost:8080/",
     "height": 445
    },
    "executionInfo": {
     "elapsed": 6,
     "status": "ok",
     "timestamp": 1723977379249,
     "user": {
      "displayName": "ABHILASH KUKAWALKAR",
      "userId": "05666272144897377525"
     },
     "user_tz": -330
    },
    "id": "c7v5Kq5kn-bg",
    "outputId": "5a3b5d81-0933-429a-ac8b-e0f506e6288c"
   },
   "outputs": [
    {
     "data": {
      "image/png": "[encoded data removed]",
      "text/plain": [
       "<Figure size 640x480 with 1 Axes>"
      ]
     },
     "metadata": {},
     "output_type": "display_data"
    }
   ],
   "source": [
    "plot.boxplot(loan['annual_inc'])\n",
    "plot.show()"
   ]
  },
  {
   "cell_type": "code",
   "execution_count": 60,
   "metadata": {
    "colab": {
     "base_uri": "https://localhost:8080/",
     "height": 430
    },
    "executionInfo": {
     "elapsed": 1055,
     "status": "ok",
     "timestamp": 1723977380299,
     "user": {
      "displayName": "ABHILASH KUKAWALKAR",
      "userId": "05666272144897377525"
     },
     "user_tz": -330
    },
    "id": "RqazSmM6oCRV",
    "outputId": "7b46e470-36d8-431c-f9ad-a38b03bd8da8"
   },
   "outputs": [
    {
     "data": {
      "image/png": "[encoded data removed]",
      "text/plain": [
       "<Figure size 640x480 with 1 Axes>"
      ]
     },
     "metadata": {},
     "output_type": "display_data"
    }
   ],
   "source": [
    "plot.boxplot(loan['int_rate'])\n",
    "plot.show()"
   ]
  },
  {
   "cell_type": "code",
   "execution_count": 61,
   "metadata": {
    "colab": {
     "base_uri": "https://localhost:8080/",
     "height": 430
    },
    "executionInfo": {
     "elapsed": 8,
     "status": "ok",
     "timestamp": 1723977380299,
     "user": {
      "displayName": "ABHILASH KUKAWALKAR",
      "userId": "05666272144897377525"
     },
     "user_tz": -330
    },
    "id": "qFQCbFNfoGy5",
    "outputId": "1afa3ef1-72ea-4f25-ed25-3dff688bbd51"
   },
   "outputs": [
    {
     "data": {
      "image/png": "[encoded data removed]",
      "text/plain": [
       "<Figure size 640x480 with 1 Axes>"
      ]
     },
     "metadata": {},
     "output_type": "display_data"
    }
   ],
   "source": [
    "plot.boxplot(loan['dti'])\n",
    "plot.show()"
   ]
  },
  {
   "cell_type": "code",
   "execution_count": 62,
   "metadata": {
    "colab": {
     "base_uri": "https://localhost:8080/",
     "height": 430
    },
    "executionInfo": {
     "elapsed": 7,
     "status": "ok",
     "timestamp": 1723977380299,
     "user": {
      "displayName": "ABHILASH KUKAWALKAR",
      "userId": "05666272144897377525"
     },
     "user_tz": -330
    },
    "id": "_p0JB2rSodRj",
    "outputId": "be22e284-5056-48f3-fb7d-023e3a1627f4"
   },
   "outputs": [
    {
     "data": {
      "image/png": "[encoded data removed]",
      "text/plain": [
       "<Figure size 640x480 with 1 Axes>"
      ]
     },
     "metadata": {},
     "output_type": "display_data"
    }
   ],
   "source": [
    "plot.boxplot(loan['installment'])\n",
    "plot.show()"
   ]
  },
  {
   "cell_type": "code",
   "execution_count": 63,
   "metadata": {
    "id": "LJKeDox9ohmf"
   },
   "outputs": [],
   "source": [
    "# From above box plts we can see there is otliers exits for columns'loan_amnt', 'funded_amnt', 'funded_amnt_inv', 'int_rate', 'installment', 'annual_inc'.\n",
    "# Lets remove the outlier\n",
    "outliers_columns_set1= ['loan_amnt', 'funded_amnt', 'funded_amnt_inv']\n",
    "outliers_columns_set2=['int_rate', 'installment', 'annual_inc']\n",
    "# Define a function to remove outliers based on IQR\n",
    "def remove_outliers_iqr(data, columns,threshold):\n",
    "    for col in columns:\n",
    "        Q1 = data[col].quantile(0.25)\n",
    "        Q3 = data[col].quantile(0.75)\n",
    "        IQR = Q3 - Q1\n",
    "        lower_bound = Q1 - threshold * IQR\n",
    "        upper_bound = Q3 + threshold * IQR\n",
    "        data = data[(data[col] >= lower_bound) & (data[col] <= upper_bound)]\n",
    "    return data\n",
    "\n",
    "# Remove outliers from the DataFrame\n",
    "loan =remove_outliers_iqr(loan, outliers_columns_set1,1.5)\n",
    "loan =remove_outliers_iqr(loan, outliers_columns_set2,1.5)"
   ]
  },
  {
   "cell_type": "code",
   "execution_count": 64,
   "metadata": {
    "colab": {
     "base_uri": "https://localhost:8080/",
     "height": 430
    },
    "executionInfo": {
     "elapsed": 764,
     "status": "ok",
     "timestamp": 1723977381057,
     "user": {
      "displayName": "ABHILASH KUKAWALKAR",
      "userId": "05666272144897377525"
     },
     "user_tz": -330
    },
    "id": "okKrEsg2ouMd",
    "outputId": "6c412a40-c5c2-47d0-c301-7b0c4b1d58c2"
   },
   "outputs": [
    {
     "data": {
      "image/png": "[encoded data removed]",
      "text/plain": [
       "<Figure size 640x480 with 1 Axes>"
      ]
     },
     "metadata": {},
     "output_type": "display_data"
    }
   ],
   "source": [
    "plot.boxplot(loan['loan_amnt'])\n",
    "plot.show()"
   ]
  },
  {
   "cell_type": "code",
   "execution_count": 65,
   "metadata": {
    "colab": {
     "base_uri": "https://localhost:8080/",
     "height": 430
    },
    "executionInfo": {
     "elapsed": 12,
     "status": "ok",
     "timestamp": 1723977381057,
     "user": {
      "displayName": "ABHILASH KUKAWALKAR",
      "userId": "05666272144897377525"
     },
     "user_tz": -330
    },
    "id": "dLwji4l-oyme",
    "outputId": "761dd358-c9dd-4885-ae9c-105a75257f13"
   },
   "outputs": [
    {
     "data": {
      "image/png": "[encoded data removed]",
      "text/plain": [
       "<Figure size 640x480 with 1 Axes>"
      ]
     },
     "metadata": {},
     "output_type": "display_data"
    }
   ],
   "source": [
    "plot.boxplot(loan['funded_amnt_inv'])\n",
    "plot.show()"
   ]
  },
  {
   "cell_type": "code",
   "execution_count": 66,
   "metadata": {
    "colab": {
     "base_uri": "https://localhost:8080/",
     "height": 430
    },
    "executionInfo": {
     "elapsed": 11,
     "status": "ok",
     "timestamp": 1723977381057,
     "user": {
      "displayName": "ABHILASH KUKAWALKAR",
      "userId": "05666272144897377525"
     },
     "user_tz": -330
    },
    "id": "DoQHQRpXo3Te",
    "outputId": "63be2172-cca5-4c42-9e21-2062638c2398"
   },
   "outputs": [
    {
     "data": {
      "image/png": "[encoded data removed]",
      "text/plain": [
       "<Figure size 640x480 with 1 Axes>"
      ]
     },
     "metadata": {},
     "output_type": "display_data"
    }
   ],
   "source": [
    "plot.boxplot(loan['funded_amnt'])\n",
    "plot.show()"
   ]
  },
  {
   "cell_type": "code",
   "execution_count": 67,
   "metadata": {
    "colab": {
     "base_uri": "https://localhost:8080/",
     "height": 430
    },
    "executionInfo": {
     "elapsed": 10,
     "status": "ok",
     "timestamp": 1723977381057,
     "user": {
      "displayName": "ABHILASH KUKAWALKAR",
      "userId": "05666272144897377525"
     },
     "user_tz": -330
    },
    "id": "8XBPU0KOo83Y",
    "outputId": "7ff6abb8-3b1f-4ae7-e2a2-39d6c24c0c72"
   },
   "outputs": [
    {
     "data": {
      "image/png": "[encoded data removed]",
      "text/plain": [
       "<Figure size 640x480 with 1 Axes>"
      ]
     },
     "metadata": {},
     "output_type": "display_data"
    }
   ],
   "source": [
    "plot.boxplot(loan['annual_inc'])\n",
    "plot.show()"
   ]
  },
  {
   "cell_type": "code",
   "execution_count": 68,
   "metadata": {
    "colab": {
     "base_uri": "https://localhost:8080/",
     "height": 430
    },
    "executionInfo": {
     "elapsed": 9,
     "status": "ok",
     "timestamp": 1723977381057,
     "user": {
      "displayName": "ABHILASH KUKAWALKAR",
      "userId": "05666272144897377525"
     },
     "user_tz": -330
    },
    "id": "jJ7F63MnpAfb",
    "outputId": "09c834d2-cfc4-4315-d92d-4ff5bad3214c"
   },
   "outputs": [
    {
     "data": {
      "image/png": "[encoded data removed]",
      "text/plain": [
       "<Figure size 640x480 with 1 Axes>"
      ]
     },
     "metadata": {},
     "output_type": "display_data"
    }
   ],
   "source": [
    "plot.boxplot(loan['int_rate'])\n",
    "plot.show()"
   ]
  },
  {
   "cell_type": "code",
   "execution_count": 69,
   "metadata": {
    "colab": {
     "base_uri": "https://localhost:8080/",
     "height": 435
    },
    "executionInfo": {
     "elapsed": 1050,
     "status": "ok",
     "timestamp": 1723977382099,
     "user": {
      "displayName": "ABHILASH KUKAWALKAR",
      "userId": "05666272144897377525"
     },
     "user_tz": -330
    },
    "id": "wBiIOT8QpE85",
    "outputId": "db62b302-bb61-4e04-a7cd-f790a3c6509a"
   },
   "outputs": [
    {
     "data": {
      "image/png": "[encoded data removed]",
      "text/plain": [
       "<Figure size 640x480 with 1 Axes>"
      ]
     },
     "metadata": {},
     "output_type": "display_data"
    }
   ],
   "source": [
    "plot.boxplot(loan['installment'])\n",
    "plot.show()"
   ]
  },
  {
   "cell_type": "code",
   "execution_count": 70,
   "metadata": {
    "colab": {
     "base_uri": "https://localhost:8080/",
     "height": 725
    },
    "executionInfo": {
     "elapsed": 7,
     "status": "ok",
     "timestamp": 1723977382100,
     "user": {
      "displayName": "ABHILASH KUKAWALKAR",
      "userId": "05666272144897377525"
     },
     "user_tz": -330
    },
    "id": "aZuXPSNwpImx",
    "outputId": "d410cd2f-da56-4e2d-e66c-f310229139b3"
   },
   "outputs": [
    {
     "data": {
      "image/png": "[encoded data removed]",
      "text/plain": [
       "<Figure size 1600x400 with 2 Axes>"
      ]
     },
     "metadata": {},
     "output_type": "display_data"
    },
    {
     "data": {
      "text/plain": [
       "count    33191.000000\n",
       "mean      9820.838480\n",
       "std       5809.600807\n",
       "min        500.000000\n",
       "25%       5000.000000\n",
       "50%       9000.000000\n",
       "75%      13750.000000\n",
       "max      29000.000000\n",
       "Name: loan_amnt, dtype: float64"
      ]
     },
     "execution_count": 70,
     "metadata": {},
     "output_type": "execute_result"
    }
   ],
   "source": [
    "plot_digram(loan, 'loan_amnt')\n",
    "#print(loan_df[\"loan_amnt\"].mean())\n",
    "# describe the Loan Amount\n",
    "loan['loan_amnt'].describe()"
   ]
  },
  {
   "cell_type": "code",
   "execution_count": 71,
   "metadata": {
    "id": "F2gOC-OFcTu0"
   },
   "outputs": [],
   "source": [
    "# observations from this graph\n",
    "\n",
    "# The distribution of loan amounts is right-skewed, with a majority of loans falling between $5,000 and $15,000.\n",
    "# The mean loan amount is around $11,000.\n",
    "# There are a few outliers on the higher end, indicating some loans significantly larger than the average.\n"
   ]
  },
  {
   "cell_type": "code",
   "execution_count": 72,
   "metadata": {
    "colab": {
     "base_uri": "https://localhost:8080/",
     "height": 725
    },
    "executionInfo": {
     "elapsed": 1471,
     "status": "ok",
     "timestamp": 1723977383565,
     "user": {
      "displayName": "ABHILASH KUKAWALKAR",
      "userId": "05666272144897377525"
     },
     "user_tz": -330
    },
    "id": "sSaeDD9_pU8U",
    "outputId": "2574f6d0-0aea-4e09-ddeb-cb8514d6bde4"
   },
   "outputs": [
    {
     "data": {
      "image/png": "[encoded data removed]",
      "text/plain": [
       "<Figure size 1600x400 with 2 Axes>"
      ]
     },
     "metadata": {},
     "output_type": "display_data"
    },
    {
     "data": {
      "text/plain": [
       "count     33191.000000\n",
       "mean      59883.284633\n",
       "std       26916.857465\n",
       "min        4000.000000\n",
       "25%       40000.000000\n",
       "50%       55000.000000\n",
       "75%       75000.000000\n",
       "max      140000.000000\n",
       "Name: annual_inc, dtype: float64"
      ]
     },
     "execution_count": 72,
     "metadata": {},
     "output_type": "execute_result"
    }
   ],
   "source": [
    "plot_digram(loan, 'annual_inc')\n",
    "#print(loan_df[\"loan_amnt\"].mean())\n",
    "# describe the annual income details\n",
    "loan['annual_inc'].describe()"
   ]
  },
  {
   "cell_type": "code",
   "execution_count": 73,
   "metadata": {
    "id": "TR96ojyvc8wd"
   },
   "outputs": [],
   "source": [
    "# Observations from the 'annual_inc' plot:\n",
    "\n",
    "# The distribution of annual incomes is heavily right-skewed, indicating a concentration of borrowers with lower incomes and a long tail of high earners.\n",
    "# The mean annual income is around $65,000, but the median is likely lower due to the skew.\n",
    "# There are potential outliers on the higher end, suggesting a small number of borrowers with significantly higher incomes compared to the majority.\n"
   ]
  },
  {
   "cell_type": "code",
   "execution_count": 74,
   "metadata": {
    "colab": {
     "base_uri": "https://localhost:8080/"
    },
    "executionInfo": {
     "elapsed": 6,
     "status": "ok",
     "timestamp": 1723977383566,
     "user": {
      "displayName": "ABHILASH KUKAWALKAR",
      "userId": "05666272144897377525"
     },
     "user_tz": -330
    },
    "id": "mEcMuhUGpZ0_",
    "outputId": "69b92ee8-a5d9-4661-837d-acebf82ffae8"
   },
   "outputs": [
    {
     "name": "stdout",
     "output_type": "stream",
     "text": [
      "Average Annual Income is : 59883.0\n"
     ]
    }
   ],
   "source": [
    "# The Annual income of most if applicants lies between 40k-75k.\n",
    "print(\"Average Annual Income is :\", round(loan['annual_inc'].mean(),0))"
   ]
  },
  {
   "cell_type": "code",
   "execution_count": 75,
   "metadata": {
    "colab": {
     "base_uri": "https://localhost:8080/",
     "height": 725
    },
    "executionInfo": {
     "elapsed": 1341,
     "status": "ok",
     "timestamp": 1723977384903,
     "user": {
      "displayName": "ABHILASH KUKAWALKAR",
      "userId": "05666272144897377525"
     },
     "user_tz": -330
    },
    "id": "OUnBdm6Fpgq0",
    "outputId": "1b04c51c-c4eb-434c-862a-ddceae5075d3"
   },
   "outputs": [
    {
     "data": {
      "image/png": "[encoded data removed]",
      "text/plain": [
       "<Figure size 1600x400 with 2 Axes>"
      ]
     },
     "metadata": {},
     "output_type": "display_data"
    },
    {
     "data": {
      "text/plain": [
       "count    33191.000000\n",
       "mean      9593.825887\n",
       "std       5565.574327\n",
       "min        500.000000\n",
       "25%       5000.000000\n",
       "50%       8500.000000\n",
       "75%      13000.000000\n",
       "max      28000.000000\n",
       "Name: funded_amnt, dtype: float64"
      ]
     },
     "execution_count": 75,
     "metadata": {},
     "output_type": "execute_result"
    }
   ],
   "source": [
    "plot_digram(loan, 'funded_amnt')\n",
    "loan['funded_amnt'].describe()"
   ]
  },
  {
   "cell_type": "code",
   "execution_count": 76,
   "metadata": {
    "colab": {
     "base_uri": "https://localhost:8080/",
     "height": 725
    },
    "executionInfo": {
     "elapsed": 7,
     "status": "ok",
     "timestamp": 1723977384903,
     "user": {
      "displayName": "ABHILASH KUKAWALKAR",
      "userId": "05666272144897377525"
     },
     "user_tz": -330
    },
    "id": "8j5mUaE9p09l",
    "outputId": "9fafbda0-2ef0-44d3-ea59-b122f0c85447"
   },
   "outputs": [
    {
     "data": {
      "image/png": "[encoded data removed]",
      "text/plain": [
       "<Figure size 1600x400 with 2 Axes>"
      ]
     },
     "metadata": {},
     "output_type": "display_data"
    },
    {
     "data": {
      "text/plain": [
       "count    33191.000000\n",
       "mean        11.782783\n",
       "std          3.591944\n",
       "min          5.420000\n",
       "25%          8.900000\n",
       "50%         11.710000\n",
       "75%         14.260000\n",
       "max         22.110000\n",
       "Name: int_rate, dtype: float64"
      ]
     },
     "execution_count": 76,
     "metadata": {},
     "output_type": "execute_result"
    }
   ],
   "source": [
    "plot_digram(loan, 'int_rate')\n",
    "loan['int_rate'].describe()"
   ]
  },
  {
   "cell_type": "code",
   "execution_count": 77,
   "metadata": {
    "id": "40oJpfeNdu3z"
   },
   "outputs": [],
   "source": [
    "\n",
    "# Observations from the 'int_rate' plot:\n",
    "\n",
    "# The distribution of interest rates appears to be bimodal, with peaks around 10% and 13%.\n",
    "# The mean interest rate is approximately 12%.\n",
    "# There are no significant outliers in the interest rate distribution.\n",
    "\n",
    "# The interest rate for most of the loans lies between 9%-14%.\n"
   ]
  },
  {
   "cell_type": "markdown",
   "metadata": {
    "id": "PF1RMPQeqDBr"
   },
   "source": [
    "#6 **Unordered Categorical Variable Analysis**"
   ]
  },
  {
   "cell_type": "code",
   "execution_count": 78,
   "metadata": {
    "colab": {
     "base_uri": "https://localhost:8080/",
     "height": 532
    },
    "executionInfo": {
     "elapsed": 1580,
     "status": "ok",
     "timestamp": 1723977386478,
     "user": {
      "displayName": "ABHILASH KUKAWALKAR",
      "userId": "05666272144897377525"
     },
     "user_tz": -330
    },
    "id": "DCd6auQyp_Lq",
    "outputId": "adda88a8-c304-4981-d34f-29d1790a6830"
   },
   "outputs": [
    {
     "data": {
      "text/plain": [
       "<Axes: xlabel='home_ownership'>"
      ]
     },
     "execution_count": 78,
     "metadata": {},
     "output_type": "execute_result"
    },
    {
     "data": {
      "image/png": "[encoded data removed]",
      "text/plain": [
       "<Figure size 640x480 with 1 Axes>"
      ]
     },
     "metadata": {},
     "output_type": "display_data"
    }
   ],
   "source": [
    "loan['home_ownership'].value_counts().plot.bar()"
   ]
  },
  {
   "cell_type": "code",
   "execution_count": 79,
   "metadata": {
    "id": "XEYXSm3XeHl-"
   },
   "outputs": [
    {
     "data": {
      "text/plain": [
       "<Axes: xlabel='home_ownership'>"
      ]
     },
     "execution_count": 79,
     "metadata": {},
     "output_type": "execute_result"
    },
    {
     "data": {
      "image/png": "[encoded data removed]",
      "text/plain": [
       "<Figure size 640x480 with 1 Axes>"
      ]
     },
     "metadata": {},
     "output_type": "display_data"
    }
   ],
   "source": [
    "# observation for this graph\n",
    "\n",
    "loan['home_ownership'].value_counts().plot.bar()\n",
    "# Observation: Most loan applicants are either renting their homes or have a mortgage.\n"
   ]
  },
  {
   "cell_type": "code",
   "execution_count": 80,
   "metadata": {
    "colab": {
     "base_uri": "https://localhost:8080/",
     "height": 592
    },
    "executionInfo": {
     "elapsed": 23,
     "status": "ok",
     "timestamp": 1723977386478,
     "user": {
      "displayName": "ABHILASH KUKAWALKAR",
      "userId": "05666272144897377525"
     },
     "user_tz": -330
    },
    "id": "tj0NeoakqLd2",
    "outputId": "5a6d18f9-3c63-4fc8-e70f-1a719fbfe1d9"
   },
   "outputs": [
    {
     "data": {
      "text/plain": [
       "<Axes: xlabel='purpose'>"
      ]
     },
     "execution_count": 80,
     "metadata": {},
     "output_type": "execute_result"
    },
    {
     "data": {
      "image/png": "[encoded data removed]",
      "text/plain": [
       "<Figure size 640x480 with 1 Axes>"
      ]
     },
     "metadata": {},
     "output_type": "display_data"
    }
   ],
   "source": [
    "loan['purpose'].value_counts().plot.bar()"
   ]
  },
  {
   "cell_type": "code",
   "execution_count": 81,
   "metadata": {
    "id": "6WTO7XgmqOQB"
   },
   "outputs": [],
   "source": [
    "# Most loan applicants are seeking loans for debt consolidation."
   ]
  },
  {
   "cell_type": "code",
   "execution_count": 82,
   "metadata": {
    "colab": {
     "base_uri": "https://localhost:8080/",
     "height": 178
    },
    "executionInfo": {
     "elapsed": 19,
     "status": "ok",
     "timestamp": 1723977386478,
     "user": {
      "displayName": "ABHILASH KUKAWALKAR",
      "userId": "05666272144897377525"
     },
     "user_tz": -330
    },
    "id": "K3bTkerHqSQt",
    "outputId": "2931d671-aca3-4682-c58b-a668cc5397e6"
   },
   "outputs": [
    {
     "data": {
      "text/plain": [
       "loan_status\n",
       "Fully Paid     28477\n",
       "Charged Off     4714\n",
       "Name: count, dtype: int64"
      ]
     },
     "execution_count": 82,
     "metadata": {},
     "output_type": "execute_result"
    }
   ],
   "source": [
    "Failed_per_houseowner_ship=loan\n",
    "Failed_per_houseowner_ship[\"loan_status\"].value_counts()"
   ]
  },
  {
   "cell_type": "code",
   "execution_count": 83,
   "metadata": {
    "colab": {
     "base_uri": "https://localhost:8080/",
     "height": 423
    },
    "executionInfo": {
     "elapsed": 18,
     "status": "ok",
     "timestamp": 1723977386478,
     "user": {
      "displayName": "ABHILASH KUKAWALKAR",
      "userId": "05666272144897377525"
     },
     "user_tz": -330
    },
    "id": "G4qYZO9KqWQb",
    "outputId": "857ac8d9-c856-4866-bfea-f45ac6c53862"
   },
   "outputs": [
    {
     "data": {
      "text/plain": [
       "<Axes: ylabel='count'>"
      ]
     },
     "execution_count": 83,
     "metadata": {},
     "output_type": "execute_result"
    },
    {
     "data": {
      "image/png": "[encoded data removed]",
      "text/plain": [
       "<Figure size 640x480 with 1 Axes>"
      ]
     },
     "metadata": {},
     "output_type": "display_data"
    }
   ],
   "source": [
    "#using Pie plot to visualize\n",
    "loan['addr_state'].value_counts().plot(kind=\"pie\")"
   ]
  },
  {
   "cell_type": "code",
   "execution_count": 84,
   "metadata": {
    "id": "UqQyYHR1eVUE"
   },
   "outputs": [],
   "source": [
    "# Observation: The majority of loan applicants are from California (CA) State.\n"
   ]
  },
  {
   "cell_type": "code",
   "execution_count": 85,
   "metadata": {
    "id": "xVnLvBonqbV6"
   },
   "outputs": [],
   "source": [
    "# Most of the Loan applicants are from CA(State)."
   ]
  },
  {
   "cell_type": "markdown",
   "metadata": {
    "id": "lam2GupIqijR"
   },
   "source": [
    "# **Ordered Categorical Variable Analysis**"
   ]
  },
  {
   "cell_type": "code",
   "execution_count": 86,
   "metadata": {
    "colab": {
     "base_uri": "https://localhost:8080/",
     "height": 423
    },
    "executionInfo": {
     "elapsed": 15,
     "status": "ok",
     "timestamp": 1723977386478,
     "user": {
      "displayName": "ABHILASH KUKAWALKAR",
      "userId": "05666272144897377525"
     },
     "user_tz": -330
    },
    "id": "SK12RiCBqfcQ",
    "outputId": "631c6e46-f816-4a8f-d9fe-67495d089dea"
   },
   "outputs": [
    {
     "data": {
      "text/plain": [
       "<Axes: ylabel='count'>"
      ]
     },
     "execution_count": 86,
     "metadata": {},
     "output_type": "execute_result"
    },
    {
     "data": {
      "image/png": "[encoded data removed]",
      "text/plain": [
       "<Figure size 640x480 with 1 Axes>"
      ]
     },
     "metadata": {},
     "output_type": "display_data"
    }
   ],
   "source": [
    "loan['emp_length'].value_counts().plot(kind=\"pie\")"
   ]
  },
  {
   "cell_type": "code",
   "execution_count": 87,
   "metadata": {
    "id": "VsgwrWtNqnAe"
   },
   "outputs": [],
   "source": [
    "# Most of the applications are having 10+ yrs of Exp."
   ]
  },
  {
   "cell_type": "markdown",
   "metadata": {
    "id": "NBNKTABsqtK5"
   },
   "source": [
    "#7 **Bivariate Analysis**"
   ]
  },
  {
   "cell_type": "code",
   "execution_count": 88,
   "metadata": {
    "colab": {
     "base_uri": "https://localhost:8080/",
     "height": 238
    },
    "executionInfo": {
     "elapsed": 14,
     "status": "ok",
     "timestamp": 1723977386479,
     "user": {
      "displayName": "ABHILASH KUKAWALKAR",
      "userId": "05666272144897377525"
     },
     "user_tz": -330
    },
    "id": "8uj6twq4qpw0",
    "outputId": "334bbb2f-6816-41f1-f55c-f3d6eaf1537c"
   },
   "outputs": [
    {
     "data": {
      "text/html": [
       "<div>\n",
       "<style scoped>\n",
       "    .dataframe tbody tr th:only-of-type {\n",
       "        vertical-align: middle;\n",
       "    }\n",
       "\n",
       "    .dataframe tbody tr th {\n",
       "        vertical-align: top;\n",
       "    }\n",
       "\n",
       "    .dataframe thead th {\n",
       "        text-align: right;\n",
       "    }\n",
       "</style>\n",
       "<table border=\"1\" class=\"dataframe\">\n",
       "  <thead>\n",
       "    <tr style=\"text-align: right;\">\n",
       "      <th>loan_status</th>\n",
       "      <th>annual_inc_b</th>\n",
       "      <th>Charged Off</th>\n",
       "      <th>Fully Paid</th>\n",
       "      <th>Total</th>\n",
       "      <th>Chargedoff_Proportion</th>\n",
       "    </tr>\n",
       "  </thead>\n",
       "  <tbody>\n",
       "    <tr>\n",
       "      <th>0</th>\n",
       "      <td>0 - 40k</td>\n",
       "      <td>1570</td>\n",
       "      <td>7326</td>\n",
       "      <td>8896</td>\n",
       "      <td>0.176484</td>\n",
       "    </tr>\n",
       "    <tr>\n",
       "      <th>2</th>\n",
       "      <td>50k to 60k</td>\n",
       "      <td>788</td>\n",
       "      <td>4435</td>\n",
       "      <td>5223</td>\n",
       "      <td>0.150871</td>\n",
       "    </tr>\n",
       "    <tr>\n",
       "      <th>1</th>\n",
       "      <td>40k - 50k</td>\n",
       "      <td>807</td>\n",
       "      <td>4593</td>\n",
       "      <td>5400</td>\n",
       "      <td>0.149444</td>\n",
       "    </tr>\n",
       "    <tr>\n",
       "      <th>3</th>\n",
       "      <td>60k to 70k</td>\n",
       "      <td>486</td>\n",
       "      <td>3261</td>\n",
       "      <td>3747</td>\n",
       "      <td>0.129704</td>\n",
       "    </tr>\n",
       "    <tr>\n",
       "      <th>4</th>\n",
       "      <td>70k to 80k</td>\n",
       "      <td>385</td>\n",
       "      <td>2749</td>\n",
       "      <td>3134</td>\n",
       "      <td>0.122846</td>\n",
       "    </tr>\n",
       "    <tr>\n",
       "      <th>5</th>\n",
       "      <td>80k - above</td>\n",
       "      <td>678</td>\n",
       "      <td>6113</td>\n",
       "      <td>6791</td>\n",
       "      <td>0.099838</td>\n",
       "    </tr>\n",
       "  </tbody>\n",
       "</table>\n",
       "</div>"
      ],
      "text/plain": [
       "loan_status annual_inc_b  Charged Off  Fully Paid  Total  \\\n",
       "0                0 - 40k         1570        7326   8896   \n",
       "2             50k to 60k          788        4435   5223   \n",
       "1              40k - 50k          807        4593   5400   \n",
       "3             60k to 70k          486        3261   3747   \n",
       "4             70k to 80k          385        2749   3134   \n",
       "5            80k - above          678        6113   6791   \n",
       "\n",
       "loan_status  Chargedoff_Proportion  \n",
       "0                         0.176484  \n",
       "2                         0.150871  \n",
       "1                         0.149444  \n",
       "3                         0.129704  \n",
       "4                         0.122846  \n",
       "5                         0.099838  "
      ]
     },
     "execution_count": 88,
     "metadata": {},
     "output_type": "execute_result"
    }
   ],
   "source": [
    "#Bivariate Analysis on annual income against Chargedoff_Proportion -\n",
    "\n",
    "inc_range_vs_loan = loan.groupby(['annual_inc_b', 'loan_status']).loan_status.count().unstack().fillna(0).reset_index()\n",
    "inc_range_vs_loan['Total'] = inc_range_vs_loan['Charged Off']+ inc_range_vs_loan['Fully Paid']\n",
    "inc_range_vs_loan['Chargedoff_Proportion'] = inc_range_vs_loan['Charged Off'] / inc_range_vs_loan['Total']\n",
    "inc_range_vs_loan.sort_values('Chargedoff_Proportion', ascending=False)"
   ]
  },
  {
   "cell_type": "code",
   "execution_count": 89,
   "metadata": {
    "colab": {
     "base_uri": "https://localhost:8080/",
     "height": 734
    },
    "executionInfo": {
     "elapsed": 1388,
     "status": "ok",
     "timestamp": 1723979017639,
     "user": {
      "displayName": "ABHILASH KUKAWALKAR",
      "userId": "05666272144897377525"
     },
     "user_tz": -330
    },
    "id": "F4uUazkUq1pI",
    "outputId": "a96fcb89-ac52-43c9-8b7f-add0098be8d8"
   },
   "outputs": [
    {
     "data": {
      "image/png": "[encoded data removed]",
      "text/plain": [
       "<Figure size 1200x800 with 1 Axes>"
      ]
     },
     "metadata": {},
     "output_type": "display_data"
    }
   ],
   "source": [
    "# Lets draw bar plots on data calculated above. Try to visualize the pattern to understand the data better.\n",
    "\n",
    "fig, ax1 = plot.subplots(figsize=(12, 8) )\n",
    "ax1.set_title('Annual Income vs Chargedoff Proportion', fontsize=15, color='#F08080')\n",
    "ax1 = sea.barplot(x='annual_inc_b', y='Chargedoff_Proportion', data=inc_range_vs_loan,\n",
    "                  palette='OrRd', edgecolor='#D3D3D3')\n",
    "ax1.set_ylabel('Chargedoff Proportion', fontsize=16, color='#F08080')\n",
    "ax1.set_xlabel('Annual Income', fontsize=16, color='#F08080')\n",
    "plot.show()\n",
    "\n",
    "\n",
    "\n"
   ]
  },
  {
   "cell_type": "code",
   "execution_count": 90,
   "metadata": {
    "id": "SF-iLEMdeee4"
   },
   "outputs": [],
   "source": [
    "# observation for this graph\n",
    "\n",
    "# Observation: Applicants with lower annual income are more likely to default on loans compared to those with higher annual incomes.\n",
    "# This suggests that income level is a significant factor in assessing credit risk.\n"
   ]
  },
  {
   "cell_type": "code",
   "execution_count": 91,
   "metadata": {
    "id": "XKDRttIeq8Ci"
   },
   "outputs": [],
   "source": [
    "# Observations:\n",
    "# Income range 80000+  has less chances of charged off.\n",
    "# Income range 0-40000 has high chances of charged off.\n",
    "# Notice that with increase in annual income charged off proportion got decreased."
   ]
  },
  {
   "cell_type": "code",
   "execution_count": 92,
   "metadata": {
    "colab": {
     "base_uri": "https://localhost:8080/",
     "height": 206
    },
    "executionInfo": {
     "elapsed": 18,
     "status": "ok",
     "timestamp": 1723977388156,
     "user": {
      "displayName": "ABHILASH KUKAWALKAR",
      "userId": "05666272144897377525"
     },
     "user_tz": -330
    },
    "id": "-nBE3Zx3q9G_",
    "outputId": "051aedaf-5634-4e4d-94a8-2174d3536eaf"
   },
   "outputs": [
    {
     "data": {
      "text/html": [
       "<div>\n",
       "<style scoped>\n",
       "    .dataframe tbody tr th:only-of-type {\n",
       "        vertical-align: middle;\n",
       "    }\n",
       "\n",
       "    .dataframe tbody tr th {\n",
       "        vertical-align: top;\n",
       "    }\n",
       "\n",
       "    .dataframe thead th {\n",
       "        text-align: right;\n",
       "    }\n",
       "</style>\n",
       "<table border=\"1\" class=\"dataframe\">\n",
       "  <thead>\n",
       "    <tr style=\"text-align: right;\">\n",
       "      <th>loan_status</th>\n",
       "      <th>int_rate_b</th>\n",
       "      <th>Charged Off</th>\n",
       "      <th>Fully Paid</th>\n",
       "      <th>Total</th>\n",
       "      <th>Chargedoff_Proportion</th>\n",
       "    </tr>\n",
       "  </thead>\n",
       "  <tbody>\n",
       "    <tr>\n",
       "      <th>3</th>\n",
       "      <td>Very High</td>\n",
       "      <td>1670</td>\n",
       "      <td>4751</td>\n",
       "      <td>6421</td>\n",
       "      <td>0.260084</td>\n",
       "    </tr>\n",
       "    <tr>\n",
       "      <th>0</th>\n",
       "      <td>High</td>\n",
       "      <td>985</td>\n",
       "      <td>4851</td>\n",
       "      <td>5836</td>\n",
       "      <td>0.168780</td>\n",
       "    </tr>\n",
       "    <tr>\n",
       "      <th>2</th>\n",
       "      <td>Moderate</td>\n",
       "      <td>961</td>\n",
       "      <td>5638</td>\n",
       "      <td>6599</td>\n",
       "      <td>0.145628</td>\n",
       "    </tr>\n",
       "    <tr>\n",
       "      <th>1</th>\n",
       "      <td>Low</td>\n",
       "      <td>579</td>\n",
       "      <td>4983</td>\n",
       "      <td>5562</td>\n",
       "      <td>0.104099</td>\n",
       "    </tr>\n",
       "    <tr>\n",
       "      <th>4</th>\n",
       "      <td>Very Low</td>\n",
       "      <td>519</td>\n",
       "      <td>8254</td>\n",
       "      <td>8773</td>\n",
       "      <td>0.059159</td>\n",
       "    </tr>\n",
       "  </tbody>\n",
       "</table>\n",
       "</div>"
      ],
      "text/plain": [
       "loan_status int_rate_b  Charged Off  Fully Paid  Total  Chargedoff_Proportion\n",
       "3            Very High         1670        4751   6421               0.260084\n",
       "0                 High          985        4851   5836               0.168780\n",
       "2             Moderate          961        5638   6599               0.145628\n",
       "1                  Low          579        4983   5562               0.104099\n",
       "4             Very Low          519        8254   8773               0.059159"
      ]
     },
     "execution_count": 92,
     "metadata": {},
     "output_type": "execute_result"
    }
   ],
   "source": [
    "#Bivariate Analysis on Intrest rate  against Chargedoff_Proportion -\n",
    "\n",
    "interest_vs_loan = loan.groupby(['int_rate_b', 'loan_status']).loan_status.count().unstack().fillna(0).reset_index()\n",
    "interest_vs_loan['Total'] = interest_vs_loan['Charged Off']+ interest_vs_loan['Fully Paid']\n",
    "interest_vs_loan['Chargedoff_Proportion'] = interest_vs_loan['Charged Off'] / interest_vs_loan['Total']\n",
    "interest_vs_loan.sort_values('Chargedoff_Proportion', ascending=False)"
   ]
  },
  {
   "cell_type": "code",
   "execution_count": 93,
   "metadata": {
    "colab": {
     "base_uri": "https://localhost:8080/",
     "height": 733
    },
    "executionInfo": {
     "elapsed": 1362,
     "status": "ok",
     "timestamp": 1723978948857,
     "user": {
      "displayName": "ABHILASH KUKAWALKAR",
      "userId": "05666272144897377525"
     },
     "user_tz": -330
    },
    "id": "dOEFfnZFrZ52",
    "outputId": "54b6b12d-d6db-40f3-f77f-331d0ecd0216"
   },
   "outputs": [
    {
     "data": {
      "image/png": "[encoded data removed]",
      "text/plain": [
       "<Figure size 1200x800 with 1 Axes>"
      ]
     },
     "metadata": {},
     "output_type": "display_data"
    }
   ],
   "source": [
    "## plot the diagram.\n",
    "fig, ax1 = plot.subplots(figsize=(12, 8))\n",
    "ax1.set_title('Interest Rate vs Chargedoff Proportion', fontsize=15, color='#F08080')\n",
    "ax1 = sea.barplot(x='int_rate_b', y='Chargedoff_Proportion', data=interest_vs_loan,\n",
    "                  palette='BuGn', edgecolor='#D3D3D3')\n",
    "ax1.set_xlabel('Interest Rate', fontsize=14, color='#F08080')\n",
    "ax1.set_ylabel('Chargedoff Proportion', fontsize=14, color='#F08080')\n",
    "plot.show()\n",
    "\n",
    "\n"
   ]
  },
  {
   "cell_type": "code",
   "execution_count": 94,
   "metadata": {
    "id": "6CdbM3h3e2em"
   },
   "outputs": [],
   "source": [
    "# observation for this graph\n",
    "\n",
    "### Observation: Loans with higher interest rates have a noticeably higher rate of charge-offs, \n",
    "### suggesting that interest rates are a strong indicator of default risk. \n",
    "### Higher rates are linked to a greater likelihood of loan defaults."
   ]
  },
  {
   "cell_type": "code",
   "execution_count": 95,
   "metadata": {
    "id": "tohozzwUrhT-"
   },
   "outputs": [],
   "source": [
    "# Observations:\n",
    "# interest rate less than 10% or very low has very less chances of charged off. Intrest rates are starting from minimum 5 %.\n",
    "# interest rate more than 16% or very high has good chnaces of charged off as compared to other category intrest rates.\n",
    "# Charged off proportion is increasing with higher intrest rates."
   ]
  },
  {
   "cell_type": "markdown",
   "metadata": {
    "id": "4tIu41mIrueT"
   },
   "source": [
    "**Another inference form the houseowner variable those who are not owning the house are most likely to be charged off.**"
   ]
  },
  {
   "cell_type": "code",
   "execution_count": 96,
   "metadata": {
    "colab": {
     "base_uri": "https://localhost:8080/",
     "height": 175
    },
    "executionInfo": {
     "elapsed": 16,
     "status": "ok",
     "timestamp": 1723977388156,
     "user": {
      "displayName": "ABHILASH KUKAWALKAR",
      "userId": "05666272144897377525"
     },
     "user_tz": -330
    },
    "id": "Pqi2TOxzriqB",
    "outputId": "9f384eb6-228b-4748-96d3-aa16362e5184"
   },
   "outputs": [
    {
     "data": {
      "text/html": [
       "<div>\n",
       "<style scoped>\n",
       "    .dataframe tbody tr th:only-of-type {\n",
       "        vertical-align: middle;\n",
       "    }\n",
       "\n",
       "    .dataframe tbody tr th {\n",
       "        vertical-align: top;\n",
       "    }\n",
       "\n",
       "    .dataframe thead th {\n",
       "        text-align: right;\n",
       "    }\n",
       "</style>\n",
       "<table border=\"1\" class=\"dataframe\">\n",
       "  <thead>\n",
       "    <tr style=\"text-align: right;\">\n",
       "      <th>loan_status</th>\n",
       "      <th>home_ownership</th>\n",
       "      <th>Charged Off</th>\n",
       "      <th>Fully Paid</th>\n",
       "      <th>Total</th>\n",
       "      <th>Chargedoff_Proportion</th>\n",
       "    </tr>\n",
       "  </thead>\n",
       "  <tbody>\n",
       "    <tr>\n",
       "      <th>1</th>\n",
       "      <td>OTHER</td>\n",
       "      <td>16</td>\n",
       "      <td>73</td>\n",
       "      <td>89</td>\n",
       "      <td>0.179775</td>\n",
       "    </tr>\n",
       "    <tr>\n",
       "      <th>3</th>\n",
       "      <td>RENT</td>\n",
       "      <td>2488</td>\n",
       "      <td>14156</td>\n",
       "      <td>16644</td>\n",
       "      <td>0.149483</td>\n",
       "    </tr>\n",
       "    <tr>\n",
       "      <th>2</th>\n",
       "      <td>OWN</td>\n",
       "      <td>355</td>\n",
       "      <td>2121</td>\n",
       "      <td>2476</td>\n",
       "      <td>0.143376</td>\n",
       "    </tr>\n",
       "    <tr>\n",
       "      <th>0</th>\n",
       "      <td>MORTGAGE</td>\n",
       "      <td>1855</td>\n",
       "      <td>12127</td>\n",
       "      <td>13982</td>\n",
       "      <td>0.132671</td>\n",
       "    </tr>\n",
       "  </tbody>\n",
       "</table>\n",
       "</div>"
      ],
      "text/plain": [
       "loan_status home_ownership  Charged Off  Fully Paid  Total  \\\n",
       "1                    OTHER           16          73     89   \n",
       "3                     RENT         2488       14156  16644   \n",
       "2                      OWN          355        2121   2476   \n",
       "0                 MORTGAGE         1855       12127  13982   \n",
       "\n",
       "loan_status  Chargedoff_Proportion  \n",
       "1                         0.179775  \n",
       "3                         0.149483  \n",
       "2                         0.143376  \n",
       "0                         0.132671  "
      ]
     },
     "execution_count": 96,
     "metadata": {},
     "output_type": "execute_result"
    }
   ],
   "source": [
    "#Bivariate Analysis of Home Ownership against Chargedoff_Proportion -\n",
    "\n",
    "home_ownership_vs_loan = loan.groupby(['home_ownership', 'loan_status']).loan_status.count().unstack().fillna(0).reset_index()\n",
    "home_ownership_vs_loan['Total'] = home_ownership_vs_loan['Charged Off']+ home_ownership_vs_loan['Fully Paid']\n",
    "home_ownership_vs_loan['Chargedoff_Proportion'] = home_ownership_vs_loan['Charged Off'] / home_ownership_vs_loan['Total']\n",
    "home_ownership_vs_loan.sort_values('Chargedoff_Proportion', ascending=False)"
   ]
  },
  {
   "cell_type": "code",
   "execution_count": 97,
   "metadata": {
    "colab": {
     "base_uri": "https://localhost:8080/",
     "height": 733
    },
    "executionInfo": {
     "elapsed": 1422,
     "status": "ok",
     "timestamp": 1723978928675,
     "user": {
      "displayName": "ABHILASH KUKAWALKAR",
      "userId": "05666272144897377525"
     },
     "user_tz": -330
    },
    "id": "_g5CKRAWr74B",
    "outputId": "69522eda-b63d-4f33-a922-9b16a2e885df"
   },
   "outputs": [
    {
     "data": {
      "image/png": "[encoded data removed]",
      "text/plain": [
       "<Figure size 1200x800 with 1 Axes>"
      ]
     },
     "metadata": {},
     "output_type": "display_data"
    }
   ],
   "source": [
    "fig, ax1 = plot.subplots(figsize=(12, 8))\n",
    "ax1.set_title('Home Ownership vs Chargedoff Proportion',fontsize=15,color='#F08080')\n",
    "ax1=sea.barplot(x='home_ownership', y='Chargedoff_Proportion', data=home_ownership_vs_loan)\n",
    "ax1.set_xlabel('Home Ownership',fontsize=14,color='#F08080')\n",
    "ax1.set_ylabel('Chargedoff Proportion',fontsize=14,color='#F08080')\n",
    "plot.show()"
   ]
  },
  {
   "cell_type": "code",
   "execution_count": 98,
   "metadata": {
    "id": "J7YCda-EsA7Z"
   },
   "outputs": [],
   "source": [
    "# observation:\n",
    "# Applicants who do not own a home have a higher likelihood of defaulting on their loans."
   ]
  },
  {
   "cell_type": "code",
   "execution_count": 99,
   "metadata": {
    "colab": {
     "base_uri": "https://localhost:8080/",
     "height": 488
    },
    "executionInfo": {
     "elapsed": 15,
     "status": "ok",
     "timestamp": 1723977388156,
     "user": {
      "displayName": "ABHILASH KUKAWALKAR",
      "userId": "05666272144897377525"
     },
     "user_tz": -330
    },
    "id": "YV2YkUiAsCb6",
    "outputId": "6d874973-68b4-457d-ffee-87fd0c0f7073"
   },
   "outputs": [
    {
     "data": {
      "text/html": [
       "<div>\n",
       "<style scoped>\n",
       "    .dataframe tbody tr th:only-of-type {\n",
       "        vertical-align: middle;\n",
       "    }\n",
       "\n",
       "    .dataframe tbody tr th {\n",
       "        vertical-align: top;\n",
       "    }\n",
       "\n",
       "    .dataframe thead th {\n",
       "        text-align: right;\n",
       "    }\n",
       "</style>\n",
       "<table border=\"1\" class=\"dataframe\">\n",
       "  <thead>\n",
       "    <tr style=\"text-align: right;\">\n",
       "      <th>loan_status</th>\n",
       "      <th>purpose</th>\n",
       "      <th>Charged Off</th>\n",
       "      <th>Fully Paid</th>\n",
       "      <th>Total</th>\n",
       "      <th>Chargedoff_Proportion</th>\n",
       "    </tr>\n",
       "  </thead>\n",
       "  <tbody>\n",
       "    <tr>\n",
       "      <th>11</th>\n",
       "      <td>small_business</td>\n",
       "      <td>366</td>\n",
       "      <td>1003</td>\n",
       "      <td>1369</td>\n",
       "      <td>0.267348</td>\n",
       "    </tr>\n",
       "    <tr>\n",
       "      <th>10</th>\n",
       "      <td>renewable_energy</td>\n",
       "      <td>16</td>\n",
       "      <td>67</td>\n",
       "      <td>83</td>\n",
       "      <td>0.192771</td>\n",
       "    </tr>\n",
       "    <tr>\n",
       "      <th>5</th>\n",
       "      <td>house</td>\n",
       "      <td>49</td>\n",
       "      <td>249</td>\n",
       "      <td>298</td>\n",
       "      <td>0.164430</td>\n",
       "    </tr>\n",
       "    <tr>\n",
       "      <th>3</th>\n",
       "      <td>educational</td>\n",
       "      <td>46</td>\n",
       "      <td>235</td>\n",
       "      <td>281</td>\n",
       "      <td>0.163701</td>\n",
       "    </tr>\n",
       "    <tr>\n",
       "      <th>9</th>\n",
       "      <td>other</td>\n",
       "      <td>531</td>\n",
       "      <td>2823</td>\n",
       "      <td>3354</td>\n",
       "      <td>0.158318</td>\n",
       "    </tr>\n",
       "    <tr>\n",
       "      <th>7</th>\n",
       "      <td>medical</td>\n",
       "      <td>95</td>\n",
       "      <td>510</td>\n",
       "      <td>605</td>\n",
       "      <td>0.157025</td>\n",
       "    </tr>\n",
       "    <tr>\n",
       "      <th>8</th>\n",
       "      <td>moving</td>\n",
       "      <td>79</td>\n",
       "      <td>433</td>\n",
       "      <td>512</td>\n",
       "      <td>0.154297</td>\n",
       "    </tr>\n",
       "    <tr>\n",
       "      <th>2</th>\n",
       "      <td>debt_consolidation</td>\n",
       "      <td>2329</td>\n",
       "      <td>13253</td>\n",
       "      <td>15582</td>\n",
       "      <td>0.149467</td>\n",
       "    </tr>\n",
       "    <tr>\n",
       "      <th>12</th>\n",
       "      <td>vacation</td>\n",
       "      <td>49</td>\n",
       "      <td>281</td>\n",
       "      <td>330</td>\n",
       "      <td>0.148485</td>\n",
       "    </tr>\n",
       "    <tr>\n",
       "      <th>4</th>\n",
       "      <td>home_improvement</td>\n",
       "      <td>277</td>\n",
       "      <td>2026</td>\n",
       "      <td>2303</td>\n",
       "      <td>0.120278</td>\n",
       "    </tr>\n",
       "    <tr>\n",
       "      <th>0</th>\n",
       "      <td>car</td>\n",
       "      <td>150</td>\n",
       "      <td>1224</td>\n",
       "      <td>1374</td>\n",
       "      <td>0.109170</td>\n",
       "    </tr>\n",
       "    <tr>\n",
       "      <th>1</th>\n",
       "      <td>credit_card</td>\n",
       "      <td>450</td>\n",
       "      <td>3894</td>\n",
       "      <td>4344</td>\n",
       "      <td>0.103591</td>\n",
       "    </tr>\n",
       "    <tr>\n",
       "      <th>6</th>\n",
       "      <td>major_purchase</td>\n",
       "      <td>195</td>\n",
       "      <td>1719</td>\n",
       "      <td>1914</td>\n",
       "      <td>0.101881</td>\n",
       "    </tr>\n",
       "    <tr>\n",
       "      <th>13</th>\n",
       "      <td>wedding</td>\n",
       "      <td>82</td>\n",
       "      <td>760</td>\n",
       "      <td>842</td>\n",
       "      <td>0.097387</td>\n",
       "    </tr>\n",
       "  </tbody>\n",
       "</table>\n",
       "</div>"
      ],
      "text/plain": [
       "loan_status             purpose  Charged Off  Fully Paid  Total  \\\n",
       "11               small_business          366        1003   1369   \n",
       "10             renewable_energy           16          67     83   \n",
       "5                         house           49         249    298   \n",
       "3                   educational           46         235    281   \n",
       "9                         other          531        2823   3354   \n",
       "7                       medical           95         510    605   \n",
       "8                        moving           79         433    512   \n",
       "2            debt_consolidation         2329       13253  15582   \n",
       "12                     vacation           49         281    330   \n",
       "4              home_improvement          277        2026   2303   \n",
       "0                           car          150        1224   1374   \n",
       "1                   credit_card          450        3894   4344   \n",
       "6                major_purchase          195        1719   1914   \n",
       "13                      wedding           82         760    842   \n",
       "\n",
       "loan_status  Chargedoff_Proportion  \n",
       "11                        0.267348  \n",
       "10                        0.192771  \n",
       "5                         0.164430  \n",
       "3                         0.163701  \n",
       "9                         0.158318  \n",
       "7                         0.157025  \n",
       "8                         0.154297  \n",
       "2                         0.149467  \n",
       "12                        0.148485  \n",
       "4                         0.120278  \n",
       "0                         0.109170  \n",
       "1                         0.103591  \n",
       "6                         0.101881  \n",
       "13                        0.097387  "
      ]
     },
     "execution_count": 99,
     "metadata": {},
     "output_type": "execute_result"
    }
   ],
   "source": [
    "#Bivariate Analysis on Purpose of loan against Chargedoff_Proportion -\n",
    "\n",
    "purpose_vs_loan = loan.groupby(['purpose', 'loan_status']).loan_status.count().unstack().fillna(0).reset_index()\n",
    "purpose_vs_loan['Total'] = purpose_vs_loan['Charged Off']+ purpose_vs_loan['Fully Paid']\n",
    "purpose_vs_loan['Chargedoff_Proportion'] = purpose_vs_loan['Charged Off'] / purpose_vs_loan['Total']\n",
    "purpose_vs_loan.sort_values('Chargedoff_Proportion', ascending=False)"
   ]
  },
  {
   "cell_type": "code",
   "execution_count": 100,
   "metadata": {
    "colab": {
     "base_uri": "https://localhost:8080/",
     "height": 846
    },
    "executionInfo": {
     "elapsed": 1707,
     "status": "ok",
     "timestamp": 1723978742234,
     "user": {
      "displayName": "ABHILASH KUKAWALKAR",
      "userId": "05666272144897377525"
     },
     "user_tz": -330
    },
    "id": "K2gluwS_sGfZ",
    "outputId": "2cab859d-40a7-4ae5-a90f-a8dd16e1262b"
   },
   "outputs": [
    {
     "data": {
      "image/png": "[encoded data removed]",
      "text/plain": [
       "<Figure size 1200x800 with 1 Axes>"
      ]
     },
     "metadata": {},
     "output_type": "display_data"
    }
   ],
   "source": [
    "fig, ax1 = plot.subplots(figsize=(12, 8))\n",
    "ax1.set_title('Purpose vs Chargedoff Proportion',fontsize=15)\n",
    "ax1=sea.barplot(x='purpose', y='Chargedoff_Proportion', data=purpose_vs_loan)\n",
    "ax1.set_xlabel('Purchase of Loan',fontsize=14,color='#F08080')\n",
    "ax1.set_ylabel('Chargedoff Proportion',fontsize=14,color='#F08080')\n",
    "plot.xticks(rotation=45)\n",
    "plot.show()"
   ]
  },
  {
   "cell_type": "code",
   "execution_count": 101,
   "metadata": {
    "id": "eRKw3f45sK6e"
   },
   "outputs": [],
   "source": [
    "# observation:\n",
    "# Applicants with a home loan are less likely to default on their loans, while those with loans for small businesses have a higher risk of defaulting"
   ]
  },
  {
   "cell_type": "code",
   "execution_count": 102,
   "metadata": {
    "colab": {
     "base_uri": "https://localhost:8080/",
     "height": 206
    },
    "executionInfo": {
     "elapsed": 13,
     "status": "ok",
     "timestamp": 1723977388157,
     "user": {
      "displayName": "ABHILASH KUKAWALKAR",
      "userId": "05666272144897377525"
     },
     "user_tz": -330
    },
    "id": "GwzUlfttsRfO",
    "outputId": "1ca98330-ad87-41de-9079-f9e91e70d007"
   },
   "outputs": [
    {
     "ename": "SyntaxError",
     "evalue": "invalid syntax (3347139001.py, line 1)",
     "output_type": "error",
     "traceback": [
      "\u001b[1;36m  Cell \u001b[1;32mIn[102], line 1\u001b[1;36m\u001b[0m\n\u001b[1;33m    Applicants with a home loan are less likely to default on their loans, while those with loans for small businesses have a higher risk of defaulting#Bivariate Analysis on DTI against Chargedoff_Proportion -\u001b[0m\n\u001b[1;37m               ^\u001b[0m\n\u001b[1;31mSyntaxError\u001b[0m\u001b[1;31m:\u001b[0m invalid syntax\n"
     ]
    }
   ],
   "source": [
    "Applicants with a home loan are less likely to default on their loans, while those with loans for small businesses have a higher risk of defaulting#Bivariate Analysis on DTI against Chargedoff_Proportion -\n",
    "\n",
    "dti_vs_loan = loan.groupby(['dti_b', 'loan_status']).loan_status.count().unstack().fillna(0).reset_index()\n",
    "dti_vs_loan['Total'] = dti_vs_loan['Charged Off']+ dti_vs_loan['Fully Paid']\n",
    "dti_vs_loan['Chargedoff_Proportion'] = dti_vs_loan['Charged Off'] / dti_vs_loan['Total']\n",
    "dti_vs_loan.sort_values('Chargedoff_Proportion', ascending=False)"
   ]
  },
  {
   "cell_type": "code",
   "execution_count": null,
   "metadata": {
    "colab": {
     "base_uri": "https://localhost:8080/",
     "height": 785
    },
    "executionInfo": {
     "elapsed": 4,
     "status": "ok",
     "timestamp": 1723978911248,
     "user": {
      "displayName": "ABHILASH KUKAWALKAR",
      "userId": "05666272144897377525"
     },
     "user_tz": -330
    },
    "id": "_mOy3tEusUmO",
    "outputId": "118e7cd0-5cc7-4d57-cf61-29dbbfc8393b"
   },
   "outputs": [],
   "source": [
    "fig, ax1 = plot.subplots(figsize=(12, 8))\n",
    "ax1.set_title('Debt To Income Ratio vs Chargedoff Proportion',fontsize=15,color='#F08080')\n",
    "ax1=sea.barplot(x='dti_b', y='Chargedoff_Proportion', data=dti_vs_loan)\n",
    "ax1.set_xlabel('Debt To Income Ratio',fontsize=14,color='#F08080')\n",
    "ax1.set_ylabel('Chargedoff Proportion',fontsize=14,color='#F08080')\n",
    "plot.xticks(rotation=45)\n",
    "plot.show()"
   ]
  },
  {
   "cell_type": "code",
   "execution_count": null,
   "metadata": {
    "id": "mX70Yx85fU83"
   },
   "outputs": [],
   "source": [
    "### Observation: As the Debt-to-Income (DTI) ratio rises, the proportion of charged-off loans also increases. \n",
    "### This implies that borrowers with higher DTI ratios are more prone to default."
   ]
  },
  {
   "cell_type": "code",
   "execution_count": null,
   "metadata": {
    "id": "KVUlIgMfsX4a"
   },
   "outputs": [],
   "source": [
    "# Observation:\n",
    "#1.High DTI value  having high risk of defaults\n",
    "# 2 Lower the DTO having low chances loan defaults."
   ]
  },
  {
   "cell_type": "code",
   "execution_count": null,
   "metadata": {
    "colab": {
     "base_uri": "https://localhost:8080/",
     "height": 210
    },
    "executionInfo": {
     "elapsed": 14,
     "status": "ok",
     "timestamp": 1723977389565,
     "user": {
      "displayName": "ABHILASH KUKAWALKAR",
      "userId": "05666272144897377525"
     },
     "user_tz": -330
    },
    "id": "WWTgNt2Oscb0",
    "outputId": "58eacd98-0f52-4502-c900-a57534df2585"
   },
   "outputs": [],
   "source": [
    "loan['pub_rec_bankruptcies'].value_counts()"
   ]
  },
  {
   "cell_type": "code",
   "execution_count": null,
   "metadata": {
    "colab": {
     "base_uri": "https://localhost:8080/",
     "height": 746
    },
    "executionInfo": {
     "elapsed": 1657,
     "status": "ok",
     "timestamp": 1723979102174,
     "user": {
      "displayName": "ABHILASH KUKAWALKAR",
      "userId": "05666272144897377525"
     },
     "user_tz": -330
    },
    "id": "9qprVvrvslDR",
    "outputId": "825118f7-f82b-4750-caad-c6391d12bcd3"
   },
   "outputs": [],
   "source": [
    "# #Bivariate Analysis on Bankruptcies Record against Chargedoff_Proportion -\n",
    "pub_rec_bankruptcies_vs_loan = loan.groupby(['pub_rec_bankruptcies', 'loan_status']).loan_status.count().unstack().fillna(0).reset_index()\n",
    "pub_rec_bankruptcies_vs_loan['Total'] = pub_rec_bankruptcies_vs_loan['Charged Off']+ pub_rec_bankruptcies_vs_loan['Fully Paid']\n",
    "pub_rec_bankruptcies_vs_loan['Chargedoff_Proportion'] = pub_rec_bankruptcies_vs_loan['Charged Off'] / pub_rec_bankruptcies_vs_loan['Total']\n",
    "pub_rec_bankruptcies_vs_loan.sort_values('Chargedoff_Proportion', ascending=False)\n",
    "\n",
    "\n",
    "# graph\n",
    "fig, ax1 = plot.subplots(figsize=(12, 8))\n",
    "ax1.set_title('Bankruptcies Record vs Chargedoff Proportion',fontsize=15,color='#F08080')\n",
    "ax1=sea.barplot(x='pub_rec_bankruptcies', y='Chargedoff_Proportion', data=pub_rec_bankruptcies_vs_loan)\n",
    "ax1.set_xlabel('Bankruptcies Record To Income Ratio',fontsize=14,color='#F08080')\n",
    "ax1.set_ylabel('Chargedoff Proportion',fontsize=14,color='#F08080')\n",
    "plot.xticks(rotation=45)\n",
    "plot.show()"
   ]
  },
  {
   "cell_type": "code",
   "execution_count": null,
   "metadata": {
    "id": "7bBl32qDfmGS"
   },
   "outputs": [],
   "source": [
    "### Observation: Borrowers with a history of bankruptcies (pub_rec_bankruptcies > 0) exhibit a higher likelihood of loan default compared to those without any prior bankruptcies.\n",
    "### This highlights the importance of considering past financial behavior as a key indicator of credit risk.\n"
   ]
  },
  {
   "cell_type": "code",
   "execution_count": null,
   "metadata": {
    "id": "qpmH6ONAsqPB"
   },
   "outputs": [],
   "source": [
    "# Observations:\n",
    "#1.Bankruptcies Record with 2 is having high impact on loan defaults\n",
    "# 2.Bankruptcies Record with 0 is low impact on loan defaults\n",
    "# 3.Lower the Bankruptcies lower the risk."
   ]
  },
  {
   "cell_type": "code",
   "execution_count": null,
   "metadata": {
    "colab": {
     "base_uri": "https://localhost:8080/",
     "height": 757
    },
    "executionInfo": {
     "elapsed": 1751,
     "status": "ok",
     "timestamp": 1723979152877,
     "user": {
      "displayName": "ABHILASH KUKAWALKAR",
      "userId": "05666272144897377525"
     },
     "user_tz": -330
    },
    "id": "SVvri78Ist0p",
    "outputId": "bd7b8019-3d23-43d4-994b-53d29f402b60"
   },
   "outputs": [],
   "source": [
    "# #Bivariate Analysis on Issues of Year  against Chargedoff_Proportion -\n",
    "\n",
    "issue_year_vs_loan = loan.groupby(['issue_year', 'loan_status']).loan_status.count().unstack().fillna(0).reset_index()\n",
    "issue_year_vs_loan['Total'] = issue_year_vs_loan['Charged Off']+ issue_year_vs_loan['Fully Paid']\n",
    "issue_year_vs_loan['Chargedoff_Proportion'] = issue_year_vs_loan['Charged Off'] / issue_year_vs_loan['Total']\n",
    "issue_year_vs_loan.sort_values('Chargedoff_Proportion', ascending=False)\n",
    "\n",
    "\n",
    "# graph\n",
    "fig, ax1 = plot.subplots(figsize=(12, 8))\n",
    "ax1.set_title('Issues Year vs Chargedoff Proportion',fontsize=15,color='#F08080')\n",
    "ax1=sea.barplot(x='issue_year', y='Chargedoff_Proportion', data=issue_year_vs_loan)\n",
    "ax1.set_xlabel('Year',fontsize=14,color='#F08080')\n",
    "ax1.set_ylabel('Chargedoff Proportion',fontsize=14,color='#F08080')\n",
    "plot.xticks(rotation=45)\n",
    "plot.show()"
   ]
  },
  {
   "cell_type": "code",
   "execution_count": null,
   "metadata": {
    "id": "_LPmLCwPf2Dx"
   },
   "outputs": [],
   "source": [
    "### Observation: Loans issued in 2007 and 2008 have more charge-offs compared to those from recent years. \n",
    "### This could be due to the economic situation at the time or how lending practices have evolved since then."
   ]
  },
  {
   "cell_type": "code",
   "execution_count": null,
   "metadata": {
    "id": "vdQaRC-os2XW"
   },
   "outputs": [],
   "source": [
    "   # Year 2007 is highest loan defaults.\n",
    "    # 2009 is having lowest loan defaults."
   ]
  },
  {
   "cell_type": "code",
   "execution_count": null,
   "metadata": {
    "colab": {
     "base_uri": "https://localhost:8080/",
     "height": 742
    },
    "executionInfo": {
     "elapsed": 1153,
     "status": "ok",
     "timestamp": 1723979191748,
     "user": {
      "displayName": "ABHILASH KUKAWALKAR",
      "userId": "05666272144897377525"
     },
     "user_tz": -330
    },
    "id": "Eivp_fQts6EB",
    "outputId": "258a3653-20e0-48be-8ada-51102c52cc9e"
   },
   "outputs": [],
   "source": [
    "# #Bivariate Analysis on Month of Issue of loan Record against Chargedoff_Proportion -\n",
    "\n",
    "issue_month_vs_loan = loan.groupby(['issue_month', 'loan_status']).loan_status.count().unstack().fillna(0).reset_index()\n",
    "issue_month_vs_loan['Total'] = issue_month_vs_loan['Charged Off']+ issue_month_vs_loan['Fully Paid']\n",
    "issue_month_vs_loan['Chargedoff_Proportion'] = issue_month_vs_loan['Charged Off'] / issue_month_vs_loan['Total']\n",
    "issue_month_vs_loan.sort_values('Chargedoff_Proportion', ascending=False)\n",
    "\n",
    "\n",
    "# graph\n",
    "fig, ax1 = plot.subplots(figsize=(12, 8))\n",
    "ax1.set_title('Issue Month  vs Chargedoff Proportion',fontsize=15,color='#F08080')\n",
    "ax1=sea.barplot(x='issue_month', y='Chargedoff_Proportion', data=issue_month_vs_loan)\n",
    "ax1.set_xlabel('Issue Month ',fontsize=14,color='#F08080')\n",
    "ax1.set_ylabel('Chargedoff Proportion',fontsize=14,color='#F08080')\n",
    "plot.xticks(rotation=45)\n",
    "plot.show()"
   ]
  },
  {
   "cell_type": "code",
   "execution_count": null,
   "metadata": {
    "id": "1zpeKZYjgC1H"
   },
   "outputs": [],
   "source": [
    "### Observation: There is no clear trend or significant variation in charge-off proportions across different months of loan issuance.\n",
    "### This suggests that the month in which a loan is issued might not be a strong predictor of default risk.\n"
   ]
  },
  {
   "cell_type": "code",
   "execution_count": null,
   "metadata": {
    "id": "DTx1Ftxks_aD"
   },
   "outputs": [],
   "source": [
    "# 1. Those loan has been issued in May, September and december is having high number of loan defaults\n",
    "# 2. Those loan has been issued in month of February is having high number of loan defaults\n",
    "#3. Majority of loan defaults comig from applicants whose loan has been aprroved from September-to Deceber"
   ]
  },
  {
   "cell_type": "code",
   "execution_count": null,
   "metadata": {
    "colab": {
     "base_uri": "https://localhost:8080/",
     "height": 738
    },
    "executionInfo": {
     "elapsed": 5350,
     "status": "ok",
     "timestamp": 1723983269933,
     "user": {
      "displayName": "ABHILASH KUKAWALKAR",
      "userId": "05666272144897377525"
     },
     "user_tz": -330
    },
    "id": "DNtUpddytDTi",
    "outputId": "098f69d5-e5cb-4a3e-9635-0a91e67379f1"
   },
   "outputs": [],
   "source": [
    "# Bivariate Analysis on Address State against Chargedoff_Proportion\n",
    "\n",
    "addr_state_vs_loan = loan.groupby(['addr_state', 'loan_status']).loan_status.count().unstack().fillna(0).reset_index()\n",
    "addr_state_vs_loan['Total'] = addr_state_vs_loan['Charged Off'] + addr_state_vs_loan['Fully Paid']\n",
    "addr_state_vs_loan['Chargedoff_Proportion'] = addr_state_vs_loan['Charged Off'] / addr_state_vs_loan['Total']\n",
    "addr_state_vs_loan.sort_values('Chargedoff_Proportion', ascending=False, inplace=True)\n",
    "\n",
    "# Graph\n",
    "fig, ax1 = plot.subplots(figsize=(16, 8))  # Increased figure width\n",
    "ax1.set_title('State vs Chargedoff Proportion', fontsize=15, color='#F09080')\n",
    "ax1 = sea.barplot(x='addr_state', y='Chargedoff_Proportion', data=addr_state_vs_loan, palette='coolwarm', edgecolor='#D3D3D3')\n",
    "ax1.set_xlabel('State', fontsize=14, color='#F09180')\n",
    "ax1.set_ylabel('Chargedoff Proportion', fontsize=14, color='#F09180')\n",
    "\n",
    "# Rotate x-axis labels to 90 degrees and reduce font size\n",
    "plot.xticks(rotation=90, fontsize=10, ha='center')\n",
    "\n",
    "# Show the plot\n",
    "plot.show()\n",
    "\n"
   ]
  },
  {
   "cell_type": "code",
   "execution_count": null,
   "metadata": {
    "id": "6rH5LsjFgUVn"
   },
   "outputs": [],
   "source": []
  },
  {
   "cell_type": "code",
   "execution_count": null,
   "metadata": {
    "id": "eOvP9Qhia11B"
   },
   "outputs": [],
   "source": [
    "# Observations:\n",
    "# States like NV, AK, FL are having high chances of loan defaults.\n",
    "# States like IA, ME, ID are having low chances of loan defaults.\n"
   ]
  },
  {
   "cell_type": "code",
   "execution_count": null,
   "metadata": {
    "colab": {
     "base_uri": "https://localhost:8080/",
     "height": 737
    },
    "executionInfo": {
     "elapsed": 1507,
     "status": "ok",
     "timestamp": 1723983575733,
     "user": {
      "displayName": "ABHILASH KUKAWALKAR",
      "userId": "05666272144897377525"
     },
     "user_tz": -330
    },
    "id": "26BiR4ultKnD",
    "outputId": "f1862140-00a5-47a9-9a5a-0768fa1877e1"
   },
   "outputs": [],
   "source": [
    "# #Bivariate Analysis on Grade against Chargedoff_Proportion -\n",
    "\n",
    "grade_vs_loan = loan.groupby(['grade', 'loan_status']).loan_status.count().unstack().fillna(0).reset_index()\n",
    "grade_vs_loan['Total'] = grade_vs_loan['Charged Off']+ grade_vs_loan['Fully Paid']\n",
    "grade_vs_loan['Chargedoff_Proportion'] = grade_vs_loan['Charged Off'] / grade_vs_loan['Total']\n",
    "grade_vs_loan.sort_values('Chargedoff_Proportion', ascending=False)\n",
    "\n",
    "\n",
    "# graph\n",
    "fig, ax1 = plot.subplots(figsize=(12, 8))\n",
    "ax1.set_title('Grade vs Chargedoff Proportion',fontsize=15,color='#F08080')\n",
    "ax1=sea.barplot(x='grade', y='Chargedoff_Proportion', data=grade_vs_loan)\n",
    "ax1.set_xlabel('Grade ',fontsize=14,color='#F08080')\n",
    "ax1.set_ylabel('Chargedoff Proportion',fontsize=14,color='#F08080')\n",
    "plot.xticks(rotation=45)\n",
    "plot.show()"
   ]
  },
  {
   "cell_type": "code",
   "execution_count": null,
   "metadata": {
    "id": "jOzxeNGBtVJ1"
   },
   "outputs": [],
   "source": [
    "# observations :\n",
    "# 1. Loan applicants with a Grade G loan have the highest default rates.\n",
    "# 2. Loan applicants with a Grade A loan have the lowest default rates."
   ]
  },
  {
   "cell_type": "markdown",
   "metadata": {
    "id": "-xV5QCqrtcTc"
   },
   "source": [
    "# **Correlation Analysis**"
   ]
  },
  {
   "cell_type": "code",
   "execution_count": null,
   "metadata": {
    "colab": {
     "base_uri": "https://localhost:8080/",
     "height": 808
    },
    "executionInfo": {
     "elapsed": 1672,
     "status": "ok",
     "timestamp": 1723977392509,
     "user": {
      "displayName": "ABHILASH KUKAWALKAR",
      "userId": "05666272144897377525"
     },
     "user_tz": -330
    },
    "id": "7qiir4WAtYz6",
    "outputId": "2e79f4e2-2bab-4a28-a377-1867956ac79a"
   },
   "outputs": [],
   "source": [
    "corr_loan = loan.select_dtypes(include=['number'])\n",
    "corr = corr_loan.corr()\n",
    "sea.set(font_scale=1.1)\n",
    "sea.clustermap(corr, annot=True, figsize=(12, 8), cmap=\"crest\")\n",
    "plot.show()"
   ]
  },
  {
   "cell_type": "code",
   "execution_count": null,
   "metadata": {
    "id": "NcUopjOMgl5Q"
   },
   "outputs": [],
   "source": [
    "# Observations from the correlation heatmap:\n",
    "\n",
    "# Loan amount, funded amount, and investor-funded amount are closely linked, meaning that larger loan requests generally get more funding.\n",
    "# Interest rates have a moderate positive correlation with loan amounts, suggesting that bigger loans often come with higher interest rates.\n",
    "# The installment amount is strongly related to both the loan amount and the funded amount, showing that larger loans lead to higher monthly payments.\n",
    "\n",
    "# Negative Correlations:\n",
    "# There’s a weak negative correlation between public record bankruptcies and annual income, indicating that people with higher incomes are less likely to have bankruptcy records.\n",
    "\n",
    "# Overall:\n",
    "# The heatmap highlights how different numerical variables in the loan dataset are related.\n",
    "# These correlations can help us understand factors that affect loan approval, interest rates, and the chances of default."
   ]
  },
  {
   "cell_type": "code",
   "execution_count": null,
   "metadata": {
    "id": "NJAJwWFVtjJG"
   },
   "outputs": [],
   "source": [
    "drop_columns = ['installment', 'id', 'issue_year', 'issue_month']\n",
    "corr_loan = corr_loan.drop(columns=drop_columns)"
   ]
  },
  {
   "cell_type": "code",
   "execution_count": null,
   "metadata": {
    "colab": {
     "base_uri": "https://localhost:8080/",
     "height": 808
    },
    "executionInfo": {
     "elapsed": 1375,
     "status": "ok",
     "timestamp": 1723977393880,
     "user": {
      "displayName": "ABHILASH KUKAWALKAR",
      "userId": "05666272144897377525"
     },
     "user_tz": -330
    },
    "id": "63vzeLcbuRuS",
    "outputId": "1cbdc236-2546-4278-a543-68649077ea31"
   },
   "outputs": [],
   "source": [
    "corr = corr_loan.corr()\n",
    "sea.set(font_scale=1.1)\n",
    "sea.clustermap(corr, annot=True, figsize=(12, 8), cmap=\"crest\")\n",
    "plot.show()"
   ]
  },
  {
   "cell_type": "markdown",
   "metadata": {
    "id": "sPYzKwBVuZ0J"
   },
   "source": [
    "Negative Correlation:\n",
    "\n",
    "1.loan_amnt has negative correlation with pub_rec_bankrupticies\n",
    "\n",
    "2.annual income has a negative correlation with dti\n",
    "\n",
    "Strong Correlation:\n",
    "\n",
    "1.term has a strong correlation with loan amount\n",
    "\n",
    "2.term has a strong correlation with interest rate\n",
    "\n",
    "3.annual income has a strong correlation with loan_amount"
   ]
  },
  {
   "cell_type": "code",
   "execution_count": null,
   "metadata": {
    "colab": {
     "base_uri": "https://localhost:8080/",
     "height": 480
    },
    "executionInfo": {
     "elapsed": 1216,
     "status": "ok",
     "timestamp": 1723977395091,
     "user": {
      "displayName": "ABHILASH KUKAWALKAR",
      "userId": "05666272144897377525"
     },
     "user_tz": -330
    },
    "id": "TBAJ-fkjuVf4",
    "outputId": "7f30fc69-aff4-4110-e5c1-7707a512517a"
   },
   "outputs": [],
   "source": [
    "sea.boxplot(x = 'term', y = 'loan_amnt', data=corr_loan)"
   ]
  },
  {
   "cell_type": "code",
   "execution_count": null,
   "metadata": {
    "id": "-zBltOfIi4ky"
   },
   "outputs": [],
   "source": [
    "# This graph shows a bivariate analysis of loan term ('term') versus loan amount ('loan_amnt') using a box plot. Here's what we can learn from it:\n",
    "\n",
    "# - Median Loan Amount: The line inside each box marks the median loan amount for each term. This helps us see if loans with longer terms generally have higher or lower median amounts.\n",
    "# - Interquartile Range (IQR): The box represents the range where the middle 50% of loan amounts fall. This shows us how much loan amounts vary within each term category.\n",
    "# - Outliers: Dots or circles outside the \"whiskers\" of the box plot highlight outliers, which are loan amounts significantly higher or lower than most others for that term.\n",
    "# - Distribution Shape: The shape of the box and whiskers can reveal the distribution pattern of loan amounts. For example, a longer upper whisker might indicate a right-skewed distribution, meaning there are more larger loan amounts.\n",
    "\n",
    "# By examining this box plot, we can better understand the relationship between loan term and loan amount, and identify any significant differences in loan amount distributions across different terms."
   ]
  },
  {
   "cell_type": "markdown",
   "metadata": {
    "id": "kg6riq3CukJk"
   },
   "source": [
    "from the above graph we can see that if term is increasing loan amount is also increasing"
   ]
  },
  {
   "cell_type": "code",
   "execution_count": null,
   "metadata": {
    "colab": {
     "base_uri": "https://localhost:8080/",
     "height": 478
    },
    "executionInfo": {
     "elapsed": 9,
     "status": "ok",
     "timestamp": 1723977395091,
     "user": {
      "displayName": "ABHILASH KUKAWALKAR",
      "userId": "05666272144897377525"
     },
     "user_tz": -330
    },
    "id": "-jYGBmKjugd0",
    "outputId": "a85f6fb8-ab9c-413c-a423-eecb767e19c8"
   },
   "outputs": [],
   "source": [
    "sea.boxplot(x = 'term', y = 'int_rate', data=corr_loan)"
   ]
  },
  {
   "cell_type": "code",
   "execution_count": null,
   "metadata": {},
   "outputs": [],
   "source": [
    "# observation -\n",
    "# Loans with longer terms (60 months) typically come with higher interest rates compared to shorter terms (36 months). \n",
    "# This trend reflects the greater risk associated with longer-term lending, as lenders face the possibility of defaults over a more extended period."
   ]
  },
  {
   "cell_type": "code",
   "execution_count": null,
   "metadata": {
    "id": "N8kRv757iJXV"
   },
   "outputs": [],
   "source": [
    "# This code conducts univariate and bivariate analysis on the loan dataset.\n",
    "# It visualizes the distributions, variable relationships, and correlations."
   ]
  },
  {
   "cell_type": "code",
   "execution_count": null,
   "metadata": {
    "id": "Lg7B5Ua4uoMT"
   },
   "outputs": [],
   "source": [
    "# Overall Data Analysis - Summary\n",
    "\n",
    "# Loan applicants with lower incomes and higher interest rates are more prone to default.\n",
    "# Borrowers without homeownership and those with a history of bankruptcies present a greater risk.\n",
    "# The purpose of the loan affects default rates, with small business loans being particularly high-risk.\n",
    "# Loans issued in earlier years (2007-2008) have higher charge-off rates.\n",
    "# States such as NV, AK, and FL have higher default rates compared to IA, ME, and ID."
   ]
  },
  {
   "cell_type": "code",
   "execution_count": null,
   "metadata": {},
   "outputs": [],
   "source": []
  }
 ],
 "metadata": {
  "colab": {
   "authorship_tag": "ABX9TyPVIDI1ZVNcQa+glF9CFuHq",
   "mount_file_id": "1GHBPN0txEO5Xz7zjrBEX74prkzp39Yk9",
   "provenance": []
  },
  "kernelspec": {
   "display_name": "Python 3 (ipykernel)",
   "language": "python",
   "name": "python3"
  },
  "language_info": {
   "codemirror_mode": {
    "name": "ipython",
    "version": 3
   },
   "file_extension": ".py",
   "mimetype": "text/x-python",
   "name": "python",
   "nbconvert_exporter": "python",
   "pygments_lexer": "ipython3",
   "version": "3.12.4"
  }
 },
 "nbformat": 4,
 "nbformat_minor": 4
}
